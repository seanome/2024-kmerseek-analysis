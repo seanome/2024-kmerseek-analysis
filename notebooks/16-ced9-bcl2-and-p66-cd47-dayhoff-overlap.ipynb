{
 "cells": [
  {
   "cell_type": "markdown",
   "id": "ec46447c-5e3e-4d2c-9e28-5d1f7860deaf",
   "metadata": {},
   "source": [
    "# Imports"
   ]
  },
  {
   "cell_type": "code",
   "execution_count": 1,
   "id": "02d8e1bf-6ca0-40a0-9ef3-af317592cc82",
   "metadata": {
    "execution": {
     "iopub.execute_input": "2024-11-12T21:31:31.268053Z",
     "iopub.status.busy": "2024-11-12T21:31:31.267726Z",
     "iopub.status.idle": "2024-11-12T21:31:32.639537Z",
     "shell.execute_reply": "2024-11-12T21:31:32.639214Z",
     "shell.execute_reply.started": "2024-11-12T21:31:31.268039Z"
    }
   },
   "outputs": [],
   "source": [
    "import pandas as pd\n",
    "import seaborn as sns\n",
    "\n",
    "# Handwritten local modules\n",
    "from sig2kmer import degenerate_protein_chatgpt\n",
    "\n",
    "import sourmash"
   ]
  },
  {
   "cell_type": "markdown",
   "id": "fc6e9b32-0acd-4727-9ba3-261edafe783e",
   "metadata": {},
   "source": [
    "## Try aligning dayhoff versions of CED9 and BCL2"
   ]
  },
  {
   "cell_type": "code",
   "execution_count": 2,
   "id": "e63be64c-3bd8-4bea-bf3c-2284addf8046",
   "metadata": {
    "execution": {
     "iopub.execute_input": "2024-11-12T21:31:32.640388Z",
     "iopub.status.busy": "2024-11-12T21:31:32.640079Z",
     "iopub.status.idle": "2024-11-12T21:31:32.642225Z",
     "shell.execute_reply": "2024-11-12T21:31:32.641997Z",
     "shell.execute_reply.started": "2024-11-12T21:31:32.640376Z"
    }
   },
   "outputs": [],
   "source": [
    "ced9_seq = \"MTRCTADNSLTNPAYRRRTMATGEMKEFLGIKGTEPTDFGINSDAQDLPSPSRQASTRRMSIGESIDGKINDWEEPRLDIEGFVVDYFTHRIRQNGMEWFGAPGLPCGVQPEHEMMRVMGTIFEKKHAENFETFCEQLLAVPRISFSLYQDVVRTVGNAQTDQCPMSYGRLIGLISFGGFVAAKMMESVELQGQVRNLFVYTSLFIKTRIRNNWKEHNRSWDDFMTLGKQMKEDYERAEAEKVGRRKQNRRWSMIGAGVTAGAIGIVGVVVCGRMMFSLK\"\n",
    "bcl2_seq = \"MAHAGRTGYDNREIVMKYIHYKLSQRGYEWDAGDVGAAPPGAAPAPGIFSSQPGHTPHPAASRDPVARTSPLQTPAAPGAAAGPALSPVPPVVHLTLRQAGDDFSRRYRRDFAEMSSQLHLTPFTARGRFATVVEELFRDGVNWGRIVAFFEFGGVMCVESVNREMSPLVDNIALWMTEYLNRHLHTWIQDNGGWDAFVELYGPSMRPLFDFSWLSLKTLLSLALVGACITLGAYLGHK\""
   ]
  },
  {
   "cell_type": "code",
   "execution_count": 3,
   "id": "1408cb59-5dfb-4d13-843e-8b1deda6e0a0",
   "metadata": {
    "execution": {
     "iopub.execute_input": "2024-11-12T21:31:32.642586Z",
     "iopub.status.busy": "2024-11-12T21:31:32.642487Z",
     "iopub.status.idle": "2024-11-12T21:31:32.649951Z",
     "shell.execute_reply": "2024-11-12T21:31:32.649731Z",
     "shell.execute_reply.started": "2024-11-12T21:31:32.642578Z"
    }
   },
   "outputs": [
    {
     "data": {
      "text/plain": [
       "'ebdabbccbebcbbfdddbebbbcedcfebedbbcbbcfbecbcbccebbbbdcbbbddebebcbecbdeccfccbdececbfeecffbddedccbecffbbbbebabecbcdceedeebbefcdddbccfcbfacceebebdebfbefcceedbebcbcbccabebfbdeebeebfbbfebbdeecbececbcedcefefbbefedbdedccfdcdcdbfccfebebdcedccfcdbcbcdebdddccddfbeebbbebbbbebeebeeeabdeefbed'"
      ]
     },
     "execution_count": 3,
     "metadata": {},
     "output_type": "execute_result"
    }
   ],
   "source": [
    "ced9_seq_dayhoff = degenerate_protein_chatgpt(ced9_seq, \"dayhoff\")\n",
    "ced9_seq_dayhoff"
   ]
  },
  {
   "cell_type": "code",
   "execution_count": 4,
   "id": "a6bc3196-4903-4b1f-9c75-aa543227691f",
   "metadata": {
    "execution": {
     "iopub.execute_input": "2024-11-12T21:31:32.650626Z",
     "iopub.status.busy": "2024-11-12T21:31:32.650521Z",
     "iopub.status.idle": "2024-11-12T21:31:32.654521Z",
     "shell.execute_reply": "2024-11-12T21:31:32.654306Z",
     "shell.execute_reply.started": "2024-11-12T21:31:32.650617Z"
    }
   },
   "outputs": [
    {
     "data": {
      "text/plain": [
       "'ebdbbdbbfccdceeedfedfdebcdbfcfcbbcebbbbbbbbbbbbefbbcbbdbbdbbbbdcbebdbbbecbbbbbbbbbbbbebbebbeedebedcbbccfbddfddcfbcebbcedebbfbbdbdfbbeeccefdcbecfbdeebffcfbbeeaecbecdcebbeeccebefebcfecddedbfecccbbfcbfecefbbbedbefcfbfebedbeebebeebbaebebbfebdd'"
      ]
     },
     "execution_count": 4,
     "metadata": {},
     "output_type": "execute_result"
    }
   ],
   "source": [
    "bcl2_seq_dayhoff = degenerate_protein_chatgpt(bcl2_seq, \"dayhoff\")\n",
    "bcl2_seq_dayhoff"
   ]
  },
  {
   "cell_type": "code",
   "execution_count": 5,
   "id": "7be79de6-4856-4cdd-99c5-2e6b1902fd51",
   "metadata": {
    "execution": {
     "iopub.execute_input": "2024-11-12T21:31:32.654897Z",
     "iopub.status.busy": "2024-11-12T21:31:32.654799Z",
     "iopub.status.idle": "2024-11-12T21:31:32.658857Z",
     "shell.execute_reply": "2024-11-12T21:31:32.658627Z",
     "shell.execute_reply.started": "2024-11-12T21:31:32.654888Z"
    }
   },
   "outputs": [],
   "source": [
    "def kmerize(sequence, ksize):\n",
    "    kmers = [sequence[i : (i + ksize)] for i in range(len(sequence) - ksize + 1)]\n",
    "    return kmers\n",
    "\n",
    "\n",
    "def calculate_jaccard(set1, set2):\n",
    "    union = set1.union(set2)\n",
    "    intersection = set1.intersection(set2)\n",
    "    return len(intersection) / len(union)"
   ]
  },
  {
   "cell_type": "markdown",
   "id": "07af846e",
   "metadata": {},
   "source": [
    "# The ksizes value was dropped from (5,31) using the hp dataset"
   ]
  },
  {
   "cell_type": "code",
   "execution_count": 6,
   "id": "df3a181f-6ec3-429e-86a2-d2f7f490852a",
   "metadata": {
    "execution": {
     "iopub.execute_input": "2024-11-12T21:31:32.659221Z",
     "iopub.status.busy": "2024-11-12T21:31:32.659126Z",
     "iopub.status.idle": "2024-11-12T21:31:32.675748Z",
     "shell.execute_reply": "2024-11-12T21:31:32.675523Z",
     "shell.execute_reply.started": "2024-11-12T21:31:32.659212Z"
    }
   },
   "outputs": [
    {
     "data": {
      "text/html": [
       "<div>\n",
       "<style scoped>\n",
       "    .dataframe tbody tr th:only-of-type {\n",
       "        vertical-align: middle;\n",
       "    }\n",
       "\n",
       "    .dataframe tbody tr th {\n",
       "        vertical-align: top;\n",
       "    }\n",
       "\n",
       "    .dataframe thead th {\n",
       "        text-align: right;\n",
       "    }\n",
       "</style>\n",
       "<table border=\"1\" class=\"dataframe\">\n",
       "  <thead>\n",
       "    <tr style=\"text-align: right;\">\n",
       "      <th></th>\n",
       "      <th>query</th>\n",
       "      <th>match</th>\n",
       "      <th>moltype</th>\n",
       "      <th>ksize</th>\n",
       "      <th>jaccard</th>\n",
       "      <th>query_n_kmers</th>\n",
       "      <th>query_n_unique_kmers</th>\n",
       "      <th>match_n_kmers</th>\n",
       "      <th>match_n_unique_kmers</th>\n",
       "    </tr>\n",
       "  </thead>\n",
       "  <tbody>\n",
       "    <tr>\n",
       "      <th>0</th>\n",
       "      <td>BCL2</td>\n",
       "      <td>ced9</td>\n",
       "      <td>dayhoff</td>\n",
       "      <td>2</td>\n",
       "      <td>0.818182</td>\n",
       "      <td>238</td>\n",
       "      <td>28</td>\n",
       "      <td>279</td>\n",
       "      <td>32</td>\n",
       "    </tr>\n",
       "    <tr>\n",
       "      <th>1</th>\n",
       "      <td>BCL2</td>\n",
       "      <td>ced9</td>\n",
       "      <td>dayhoff</td>\n",
       "      <td>3</td>\n",
       "      <td>0.606061</td>\n",
       "      <td>237</td>\n",
       "      <td>100</td>\n",
       "      <td>278</td>\n",
       "      <td>112</td>\n",
       "    </tr>\n",
       "    <tr>\n",
       "      <th>2</th>\n",
       "      <td>BCL2</td>\n",
       "      <td>ced9</td>\n",
       "      <td>dayhoff</td>\n",
       "      <td>4</td>\n",
       "      <td>0.198113</td>\n",
       "      <td>236</td>\n",
       "      <td>172</td>\n",
       "      <td>277</td>\n",
       "      <td>209</td>\n",
       "    </tr>\n",
       "    <tr>\n",
       "      <th>3</th>\n",
       "      <td>BCL2</td>\n",
       "      <td>ced9</td>\n",
       "      <td>dayhoff</td>\n",
       "      <td>5</td>\n",
       "      <td>0.055046</td>\n",
       "      <td>235</td>\n",
       "      <td>204</td>\n",
       "      <td>276</td>\n",
       "      <td>256</td>\n",
       "    </tr>\n",
       "    <tr>\n",
       "      <th>4</th>\n",
       "      <td>BCL2</td>\n",
       "      <td>ced9</td>\n",
       "      <td>dayhoff</td>\n",
       "      <td>6</td>\n",
       "      <td>0.016667</td>\n",
       "      <td>234</td>\n",
       "      <td>215</td>\n",
       "      <td>275</td>\n",
       "      <td>273</td>\n",
       "    </tr>\n",
       "    <tr>\n",
       "      <th>5</th>\n",
       "      <td>BCL2</td>\n",
       "      <td>ced9</td>\n",
       "      <td>dayhoff</td>\n",
       "      <td>7</td>\n",
       "      <td>0.002033</td>\n",
       "      <td>233</td>\n",
       "      <td>219</td>\n",
       "      <td>274</td>\n",
       "      <td>274</td>\n",
       "    </tr>\n",
       "    <tr>\n",
       "      <th>6</th>\n",
       "      <td>BCL2</td>\n",
       "      <td>ced9</td>\n",
       "      <td>dayhoff</td>\n",
       "      <td>8</td>\n",
       "      <td>0.000000</td>\n",
       "      <td>232</td>\n",
       "      <td>222</td>\n",
       "      <td>273</td>\n",
       "      <td>273</td>\n",
       "    </tr>\n",
       "    <tr>\n",
       "      <th>7</th>\n",
       "      <td>BCL2</td>\n",
       "      <td>ced9</td>\n",
       "      <td>dayhoff</td>\n",
       "      <td>9</td>\n",
       "      <td>0.000000</td>\n",
       "      <td>231</td>\n",
       "      <td>223</td>\n",
       "      <td>272</td>\n",
       "      <td>272</td>\n",
       "    </tr>\n",
       "    <tr>\n",
       "      <th>8</th>\n",
       "      <td>BCL2</td>\n",
       "      <td>ced9</td>\n",
       "      <td>dayhoff</td>\n",
       "      <td>10</td>\n",
       "      <td>0.000000</td>\n",
       "      <td>230</td>\n",
       "      <td>224</td>\n",
       "      <td>271</td>\n",
       "      <td>271</td>\n",
       "    </tr>\n",
       "    <tr>\n",
       "      <th>9</th>\n",
       "      <td>BCL2</td>\n",
       "      <td>ced9</td>\n",
       "      <td>dayhoff</td>\n",
       "      <td>11</td>\n",
       "      <td>0.000000</td>\n",
       "      <td>229</td>\n",
       "      <td>225</td>\n",
       "      <td>270</td>\n",
       "      <td>270</td>\n",
       "    </tr>\n",
       "    <tr>\n",
       "      <th>10</th>\n",
       "      <td>BCL2</td>\n",
       "      <td>ced9</td>\n",
       "      <td>dayhoff</td>\n",
       "      <td>12</td>\n",
       "      <td>0.000000</td>\n",
       "      <td>228</td>\n",
       "      <td>226</td>\n",
       "      <td>269</td>\n",
       "      <td>269</td>\n",
       "    </tr>\n",
       "    <tr>\n",
       "      <th>11</th>\n",
       "      <td>BCL2</td>\n",
       "      <td>ced9</td>\n",
       "      <td>dayhoff</td>\n",
       "      <td>13</td>\n",
       "      <td>0.000000</td>\n",
       "      <td>227</td>\n",
       "      <td>226</td>\n",
       "      <td>268</td>\n",
       "      <td>268</td>\n",
       "    </tr>\n",
       "    <tr>\n",
       "      <th>12</th>\n",
       "      <td>BCL2</td>\n",
       "      <td>ced9</td>\n",
       "      <td>dayhoff</td>\n",
       "      <td>14</td>\n",
       "      <td>0.000000</td>\n",
       "      <td>226</td>\n",
       "      <td>226</td>\n",
       "      <td>267</td>\n",
       "      <td>267</td>\n",
       "    </tr>\n",
       "  </tbody>\n",
       "</table>\n",
       "</div>"
      ],
      "text/plain": [
       "   query match  moltype  ksize   jaccard  query_n_kmers  query_n_unique_kmers  \\\n",
       "0   BCL2  ced9  dayhoff      2  0.818182            238                    28   \n",
       "1   BCL2  ced9  dayhoff      3  0.606061            237                   100   \n",
       "2   BCL2  ced9  dayhoff      4  0.198113            236                   172   \n",
       "3   BCL2  ced9  dayhoff      5  0.055046            235                   204   \n",
       "4   BCL2  ced9  dayhoff      6  0.016667            234                   215   \n",
       "5   BCL2  ced9  dayhoff      7  0.002033            233                   219   \n",
       "6   BCL2  ced9  dayhoff      8  0.000000            232                   222   \n",
       "7   BCL2  ced9  dayhoff      9  0.000000            231                   223   \n",
       "8   BCL2  ced9  dayhoff     10  0.000000            230                   224   \n",
       "9   BCL2  ced9  dayhoff     11  0.000000            229                   225   \n",
       "10  BCL2  ced9  dayhoff     12  0.000000            228                   226   \n",
       "11  BCL2  ced9  dayhoff     13  0.000000            227                   226   \n",
       "12  BCL2  ced9  dayhoff     14  0.000000            226                   226   \n",
       "\n",
       "    match_n_kmers  match_n_unique_kmers  \n",
       "0             279                    32  \n",
       "1             278                   112  \n",
       "2             277                   209  \n",
       "3             276                   256  \n",
       "4             275                   273  \n",
       "5             274                   274  \n",
       "6             273                   273  \n",
       "7             272                   272  \n",
       "8             271                   271  \n",
       "9             270                   270  \n",
       "10            269                   269  \n",
       "11            268                   268  \n",
       "12            267                   267  "
      ]
     },
     "execution_count": 6,
     "metadata": {},
     "output_type": "execute_result"
    }
   ],
   "source": [
    "ksizes = range(2, 15)\n",
    "\n",
    "lines = []\n",
    "\n",
    "for ksize in ksizes:\n",
    "    bcl2_dayhoff_kmers = kmerize(bcl2_seq_dayhoff, ksize)\n",
    "    ced9_dayhoff_kmers = kmerize(ced9_seq_dayhoff, ksize)\n",
    "\n",
    "    bcl2_dayhoff_kmers_set = set(bcl2_dayhoff_kmers)\n",
    "    ced9_dayhoff_kmers_set = set(ced9_dayhoff_kmers)\n",
    "\n",
    "    jaccard = calculate_jaccard(bcl2_dayhoff_kmers_set, ced9_dayhoff_kmers_set)\n",
    "    lines.append(\n",
    "        [\n",
    "            \"BCL2\",\n",
    "            \"ced9\",\n",
    "            \"dayhoff\",\n",
    "            ksize,\n",
    "            jaccard,\n",
    "            len(bcl2_dayhoff_kmers),\n",
    "            len(bcl2_dayhoff_kmers_set),\n",
    "            len(ced9_dayhoff_kmers),\n",
    "            len(ced9_dayhoff_kmers_set),\n",
    "        ]\n",
    "    )\n",
    "jaccard_df = pd.DataFrame(\n",
    "    lines,\n",
    "    columns=[\n",
    "        \"query\",\n",
    "        \"match\",\n",
    "        \"moltype\",\n",
    "        \"ksize\",\n",
    "        \"jaccard\",\n",
    "        \"query_n_kmers\",\n",
    "        \"query_n_unique_kmers\",\n",
    "        \"match_n_kmers\",\n",
    "        \"match_n_unique_kmers\",\n",
    "    ],\n",
    ")\n",
    "jaccard_df"
   ]
  },
  {
   "cell_type": "code",
   "execution_count": 7,
   "id": "2fe0e852-a6e8-4b77-abf2-4081fc9ca998",
   "metadata": {
    "execution": {
     "iopub.execute_input": "2024-11-12T21:31:32.676166Z",
     "iopub.status.busy": "2024-11-12T21:31:32.676066Z",
     "iopub.status.idle": "2024-11-12T21:31:32.809486Z",
     "shell.execute_reply": "2024-11-12T21:31:32.809211Z",
     "shell.execute_reply.started": "2024-11-12T21:31:32.676157Z"
    }
   },
   "outputs": [
    {
     "data": {
      "text/plain": [
       "<seaborn.axisgrid.FacetGrid at 0x238ba9e4460>"
      ]
     },
     "execution_count": 7,
     "metadata": {},
     "output_type": "execute_result"
    },
    {
     "data": {
      "image/png": "[encoded data removed]",
      "text/plain": [
       "<Figure size 216x216 with 1 Axes>"
      ]
     },
     "metadata": {
      "needs_background": "light"
     },
     "output_type": "display_data"
    }
   ],
   "source": [
    "sns.relplot(data=jaccard_df, x=\"ksize\", y=\"jaccard\", height=3)"
   ]
  },
  {
   "cell_type": "code",
   "execution_count": 8,
   "id": "e3d860cc-45c8-4b94-9d00-fc15f874276b",
   "metadata": {
    "execution": {
     "iopub.execute_input": "2024-11-12T21:31:32.809965Z",
     "iopub.status.busy": "2024-11-12T21:31:32.809855Z",
     "iopub.status.idle": "2024-11-12T21:31:32.888595Z",
     "shell.execute_reply": "2024-11-12T21:31:32.888321Z",
     "shell.execute_reply.started": "2024-11-12T21:31:32.809955Z"
    }
   },
   "outputs": [
    {
     "data": {
      "text/plain": [
       "<seaborn.axisgrid.FacetGrid at 0x238bab298d0>"
      ]
     },
     "execution_count": 8,
     "metadata": {},
     "output_type": "execute_result"
    },
    {
     "data": {
      "image/png": "[encoded data removed]",
      "text/plain": [
       "<Figure size 216x216 with 1 Axes>"
      ]
     },
     "metadata": {
      "needs_background": "light"
     },
     "output_type": "display_data"
    }
   ],
   "source": [
    "sns.relplot(data=jaccard_df, x=\"query_n_kmers\", y=\"query_n_unique_kmers\", height=3)"
   ]
  },
  {
   "cell_type": "code",
   "execution_count": 9,
   "id": "8a341b04-2470-443f-8758-9df1783e79cf",
   "metadata": {
    "execution": {
     "iopub.execute_input": "2024-11-12T21:31:32.889054Z",
     "iopub.status.busy": "2024-11-12T21:31:32.888946Z",
     "iopub.status.idle": "2024-11-12T21:31:32.965630Z",
     "shell.execute_reply": "2024-11-12T21:31:32.965373Z",
     "shell.execute_reply.started": "2024-11-12T21:31:32.889044Z"
    }
   },
   "outputs": [
    {
     "data": {
      "text/plain": [
       "<seaborn.axisgrid.FacetGrid at 0x238bcbb8340>"
      ]
     },
     "execution_count": 9,
     "metadata": {},
     "output_type": "execute_result"
    },
    {
     "data": {
      "image/png": "[encoded data removed]",
      "text/plain": [
       "<Figure size 216x216 with 1 Axes>"
      ]
     },
     "metadata": {
      "needs_background": "light"
     },
     "output_type": "display_data"
    }
   ],
   "source": [
    "sns.relplot(data=jaccard_df, x=\"ksize\", y=\"query_n_unique_kmers\", height=3)"
   ]
  },
  {
   "cell_type": "code",
   "execution_count": 10,
   "id": "5e8a9002-2073-41f7-a7d2-a4ca316a01ce",
   "metadata": {
    "execution": {
     "iopub.execute_input": "2024-11-12T21:31:32.966566Z",
     "iopub.status.busy": "2024-11-12T21:31:32.966453Z",
     "iopub.status.idle": "2024-11-12T21:31:33.108691Z",
     "shell.execute_reply": "2024-11-12T21:31:33.108401Z",
     "shell.execute_reply.started": "2024-11-12T21:31:32.966556Z"
    }
   },
   "outputs": [
    {
     "data": {
      "text/plain": [
       "<seaborn.axisgrid.FacetGrid at 0x238bcc29720>"
      ]
     },
     "execution_count": 10,
     "metadata": {},
     "output_type": "execute_result"
    },
    {
     "data": {
      "image/png": "[encoded data removed]",
      "text/plain": [
       "<Figure size 264.75x216 with 1 Axes>"
      ]
     },
     "metadata": {
      "needs_background": "light"
     },
     "output_type": "display_data"
    }
   ],
   "source": [
    "sns.relplot(\n",
    "    data=jaccard_df,\n",
    "    x=\"query_n_unique_kmers\",\n",
    "    y=\"jaccard\",\n",
    "    height=3,\n",
    "    hue=\"ksize\",\n",
    "    palette=\"crest\",\n",
    ")"
   ]
  },
  {
   "cell_type": "markdown",
   "id": "2aaf46a0",
   "metadata": {},
   "source": [
    "# This value was dropped from .5 in the hp dataset"
   ]
  },
  {
   "cell_type": "code",
   "execution_count": 11,
   "id": "19421cc7-be9f-45fc-b848-f29aa449a11e",
   "metadata": {
    "execution": {
     "iopub.execute_input": "2024-11-12T21:31:33.109164Z",
     "iopub.status.busy": "2024-11-12T21:31:33.109056Z",
     "iopub.status.idle": "2024-11-12T21:31:33.115226Z",
     "shell.execute_reply": "2024-11-12T21:31:33.115001Z",
     "shell.execute_reply.started": "2024-11-12T21:31:33.109153Z"
    }
   },
   "outputs": [
    {
     "data": {
      "text/html": [
       "<div>\n",
       "<style scoped>\n",
       "    .dataframe tbody tr th:only-of-type {\n",
       "        vertical-align: middle;\n",
       "    }\n",
       "\n",
       "    .dataframe tbody tr th {\n",
       "        vertical-align: top;\n",
       "    }\n",
       "\n",
       "    .dataframe thead th {\n",
       "        text-align: right;\n",
       "    }\n",
       "</style>\n",
       "<table border=\"1\" class=\"dataframe\">\n",
       "  <thead>\n",
       "    <tr style=\"text-align: right;\">\n",
       "      <th></th>\n",
       "      <th>query</th>\n",
       "      <th>match</th>\n",
       "      <th>moltype</th>\n",
       "      <th>ksize</th>\n",
       "      <th>jaccard</th>\n",
       "      <th>query_n_kmers</th>\n",
       "      <th>query_n_unique_kmers</th>\n",
       "      <th>match_n_kmers</th>\n",
       "      <th>match_n_unique_kmers</th>\n",
       "    </tr>\n",
       "  </thead>\n",
       "  <tbody>\n",
       "    <tr>\n",
       "      <th>0</th>\n",
       "      <td>BCL2</td>\n",
       "      <td>ced9</td>\n",
       "      <td>dayhoff</td>\n",
       "      <td>2</td>\n",
       "      <td>0.818182</td>\n",
       "      <td>238</td>\n",
       "      <td>28</td>\n",
       "      <td>279</td>\n",
       "      <td>32</td>\n",
       "    </tr>\n",
       "    <tr>\n",
       "      <th>1</th>\n",
       "      <td>BCL2</td>\n",
       "      <td>ced9</td>\n",
       "      <td>dayhoff</td>\n",
       "      <td>3</td>\n",
       "      <td>0.606061</td>\n",
       "      <td>237</td>\n",
       "      <td>100</td>\n",
       "      <td>278</td>\n",
       "      <td>112</td>\n",
       "    </tr>\n",
       "    <tr>\n",
       "      <th>2</th>\n",
       "      <td>BCL2</td>\n",
       "      <td>ced9</td>\n",
       "      <td>dayhoff</td>\n",
       "      <td>4</td>\n",
       "      <td>0.198113</td>\n",
       "      <td>236</td>\n",
       "      <td>172</td>\n",
       "      <td>277</td>\n",
       "      <td>209</td>\n",
       "    </tr>\n",
       "    <tr>\n",
       "      <th>3</th>\n",
       "      <td>BCL2</td>\n",
       "      <td>ced9</td>\n",
       "      <td>dayhoff</td>\n",
       "      <td>5</td>\n",
       "      <td>0.055046</td>\n",
       "      <td>235</td>\n",
       "      <td>204</td>\n",
       "      <td>276</td>\n",
       "      <td>256</td>\n",
       "    </tr>\n",
       "    <tr>\n",
       "      <th>4</th>\n",
       "      <td>BCL2</td>\n",
       "      <td>ced9</td>\n",
       "      <td>dayhoff</td>\n",
       "      <td>6</td>\n",
       "      <td>0.016667</td>\n",
       "      <td>234</td>\n",
       "      <td>215</td>\n",
       "      <td>275</td>\n",
       "      <td>273</td>\n",
       "    </tr>\n",
       "  </tbody>\n",
       "</table>\n",
       "</div>"
      ],
      "text/plain": [
       "  query match  moltype  ksize   jaccard  query_n_kmers  query_n_unique_kmers  \\\n",
       "0  BCL2  ced9  dayhoff      2  0.818182            238                    28   \n",
       "1  BCL2  ced9  dayhoff      3  0.606061            237                   100   \n",
       "2  BCL2  ced9  dayhoff      4  0.198113            236                   172   \n",
       "3  BCL2  ced9  dayhoff      5  0.055046            235                   204   \n",
       "4  BCL2  ced9  dayhoff      6  0.016667            234                   215   \n",
       "\n",
       "   match_n_kmers  match_n_unique_kmers  \n",
       "0            279                    32  \n",
       "1            278                   112  \n",
       "2            277                   209  \n",
       "3            276                   256  \n",
       "4            275                   273  "
      ]
     },
     "execution_count": 11,
     "metadata": {},
     "output_type": "execute_result"
    }
   ],
   "source": [
    "jaccard_df.query(\"jaccard > 0.01\")"
   ]
  },
  {
   "cell_type": "markdown",
   "id": "02f77666-adb5-4aa2-b660-3807ca0848bb",
   "metadata": {},
   "source": [
    "# Functionalize the analysis for any two sequences\n",
    "\n",
    "Thanks Claude"
   ]
  },
  {
   "cell_type": "code",
   "execution_count": 12,
   "id": "cb300f9d-acbf-4663-91df-3689d270e907",
   "metadata": {
    "execution": {
     "iopub.execute_input": "2024-11-12T21:31:33.115667Z",
     "iopub.status.busy": "2024-11-12T21:31:33.115570Z",
     "iopub.status.idle": "2024-11-12T21:31:33.206289Z",
     "shell.execute_reply": "2024-11-12T21:31:33.206015Z",
     "shell.execute_reply.started": "2024-11-12T21:31:33.115658Z"
    }
   },
   "outputs": [
    {
     "data": {
      "text/html": [
       "<div>\n",
       "<style scoped>\n",
       "    .dataframe tbody tr th:only-of-type {\n",
       "        vertical-align: middle;\n",
       "    }\n",
       "\n",
       "    .dataframe tbody tr th {\n",
       "        vertical-align: top;\n",
       "    }\n",
       "\n",
       "    .dataframe thead th {\n",
       "        text-align: right;\n",
       "    }\n",
       "</style>\n",
       "<table border=\"1\" class=\"dataframe\">\n",
       "  <thead>\n",
       "    <tr style=\"text-align: right;\">\n",
       "      <th></th>\n",
       "      <th>query</th>\n",
       "      <th>match</th>\n",
       "      <th>moltype</th>\n",
       "      <th>ksize</th>\n",
       "      <th>jaccard</th>\n",
       "      <th>query_n_kmers</th>\n",
       "      <th>query_n_unique_kmers</th>\n",
       "      <th>query_intersection_positions</th>\n",
       "      <th>match_n_kmers</th>\n",
       "      <th>match_n_unique_kmers</th>\n",
       "      <th>match_intersection_positions</th>\n",
       "    </tr>\n",
       "  </thead>\n",
       "  <tbody>\n",
       "    <tr>\n",
       "      <th>0</th>\n",
       "      <td>CED9</td>\n",
       "      <td>BCL2</td>\n",
       "      <td>dayhoff</td>\n",
       "      <td>5</td>\n",
       "      <td>0.055046</td>\n",
       "      <td>276</td>\n",
       "      <td>256</td>\n",
       "      <td>[[21, bbced], [27, febed], [28, ebedb], [32, b...</td>\n",
       "      <td>235</td>\n",
       "      <td>204</td>\n",
       "      <td>[[10, cdcee], [24, cdbfc], [33, cebbb], [34, e...</td>\n",
       "    </tr>\n",
       "    <tr>\n",
       "      <th>1</th>\n",
       "      <td>CED9</td>\n",
       "      <td>BCL2</td>\n",
       "      <td>dayhoff</td>\n",
       "      <td>6</td>\n",
       "      <td>0.016667</td>\n",
       "      <td>275</td>\n",
       "      <td>273</td>\n",
       "      <td>[[27, febedb], [46, cebbbb], [48, bbbbdc], [49...</td>\n",
       "      <td>234</td>\n",
       "      <td>215</td>\n",
       "      <td>[[33, cebbbb], [58, bbbbdc], [59, bbbdcb], [81...</td>\n",
       "    </tr>\n",
       "    <tr>\n",
       "      <th>2</th>\n",
       "      <td>CED9</td>\n",
       "      <td>BCL2</td>\n",
       "      <td>dayhoff</td>\n",
       "      <td>7</td>\n",
       "      <td>0.002033</td>\n",
       "      <td>274</td>\n",
       "      <td>274</td>\n",
       "      <td>[[48, bbbbdcb]]</td>\n",
       "      <td>233</td>\n",
       "      <td>219</td>\n",
       "      <td>[[58, bbbbdcb]]</td>\n",
       "    </tr>\n",
       "    <tr>\n",
       "      <th>3</th>\n",
       "      <td>CED9</td>\n",
       "      <td>BCL2</td>\n",
       "      <td>dayhoff</td>\n",
       "      <td>8</td>\n",
       "      <td>0.000000</td>\n",
       "      <td>273</td>\n",
       "      <td>273</td>\n",
       "      <td>[]</td>\n",
       "      <td>232</td>\n",
       "      <td>222</td>\n",
       "      <td>[]</td>\n",
       "    </tr>\n",
       "    <tr>\n",
       "      <th>4</th>\n",
       "      <td>CED9</td>\n",
       "      <td>BCL2</td>\n",
       "      <td>dayhoff</td>\n",
       "      <td>9</td>\n",
       "      <td>0.000000</td>\n",
       "      <td>272</td>\n",
       "      <td>272</td>\n",
       "      <td>[]</td>\n",
       "      <td>231</td>\n",
       "      <td>223</td>\n",
       "      <td>[]</td>\n",
       "    </tr>\n",
       "    <tr>\n",
       "      <th>5</th>\n",
       "      <td>CED9</td>\n",
       "      <td>BCL2</td>\n",
       "      <td>dayhoff</td>\n",
       "      <td>10</td>\n",
       "      <td>0.000000</td>\n",
       "      <td>271</td>\n",
       "      <td>271</td>\n",
       "      <td>[]</td>\n",
       "      <td>230</td>\n",
       "      <td>224</td>\n",
       "      <td>[]</td>\n",
       "    </tr>\n",
       "  </tbody>\n",
       "</table>\n",
       "</div>"
      ],
      "text/plain": [
       "  query match  moltype  ksize   jaccard  query_n_kmers  query_n_unique_kmers  \\\n",
       "0  CED9  BCL2  dayhoff      5  0.055046            276                   256   \n",
       "1  CED9  BCL2  dayhoff      6  0.016667            275                   273   \n",
       "2  CED9  BCL2  dayhoff      7  0.002033            274                   274   \n",
       "3  CED9  BCL2  dayhoff      8  0.000000            273                   273   \n",
       "4  CED9  BCL2  dayhoff      9  0.000000            272                   272   \n",
       "5  CED9  BCL2  dayhoff     10  0.000000            271                   271   \n",
       "\n",
       "                        query_intersection_positions  match_n_kmers  \\\n",
       "0  [[21, bbced], [27, febed], [28, ebedb], [32, b...            235   \n",
       "1  [[27, febedb], [46, cebbbb], [48, bbbbdc], [49...            234   \n",
       "2                                    [[48, bbbbdcb]]            233   \n",
       "3                                                 []            232   \n",
       "4                                                 []            231   \n",
       "5                                                 []            230   \n",
       "\n",
       "   match_n_unique_kmers                       match_intersection_positions  \n",
       "0                   204  [[10, cdcee], [24, cdbfc], [33, cebbb], [34, e...  \n",
       "1                   215  [[33, cebbbb], [58, bbbbdc], [59, bbbdcb], [81...  \n",
       "2                   219                                    [[58, bbbbdcb]]  \n",
       "3                   222                                                 []  \n",
       "4                   223                                                 []  \n",
       "5                   224                                                 []  "
      ]
     },
     "execution_count": 12,
     "metadata": {},
     "output_type": "execute_result"
    }
   ],
   "source": [
    "from typing import Dict, List, Set\n",
    "\n",
    "import pandas as pd\n",
    "\n",
    "\n",
    "class Sequence:\n",
    "    def __init__(self, sequence: str, name: str, moltype: str = \"dayhoff\"):\n",
    "        self.sequence = sequence\n",
    "        self.name = name\n",
    "        self.moltype = moltype\n",
    "        self.processed_seq = self._process_sequence()\n",
    "\n",
    "    def _process_sequence(self) -> str:\n",
    "        return degenerate_protein_chatgpt(self.sequence, self.moltype)\n",
    "\n",
    "    def get_kmers(self, k: int) -> List[str]:\n",
    "        return [\n",
    "            self.processed_seq[i : i + k]\n",
    "            for i in range(len(self.processed_seq) - k + 1)\n",
    "        ]\n",
    "\n",
    "\n",
    "class KmerAnalyzer:\n",
    "    def __init__(self, seq1: Sequence, seq2: Sequence):\n",
    "        self.seq1 = seq1\n",
    "        self.seq2 = seq2\n",
    "\n",
    "    def calculate_jaccard(self, kmer_set1: Set[str], kmer_set2: Set[str]) -> float:\n",
    "        intersection = len(kmer_set1.intersection(kmer_set2))\n",
    "        union = len(kmer_set1.union(kmer_set2))\n",
    "        return intersection / union if union > 0 else 0.0\n",
    "\n",
    "    def analyze_kmer_range(self, start_k: int, end_k: int) -> pd.DataFrame:\n",
    "        results = []\n",
    "        for k in range(start_k, end_k + 1):\n",
    "            results.append(self._analyze_single_k(k))\n",
    "        return pd.DataFrame(results, columns=self._get_column_names())\n",
    "\n",
    "    def get_intersecting_kmer_positions(self, kmers1, kmers2, kmer_set1, kmer_set2):\n",
    "        intersection = kmer_set1.intersection(kmer_set2)\n",
    "\n",
    "        positions1 = []\n",
    "        positions2 = []\n",
    "        for kmer in intersection:\n",
    "            positions1.append([kmers1.index(kmer), kmer])\n",
    "            positions2.append([kmers2.index(kmer), kmer])\n",
    "\n",
    "        positions1 = sorted(positions1, key=lambda x: x[0])\n",
    "        positions2 = sorted(positions2, key=lambda x: x[0])\n",
    "        return positions1, positions2\n",
    "\n",
    "    def _analyze_single_k(self, k: int) -> List:\n",
    "        kmers1 = self.seq1.get_kmers(k)\n",
    "        kmers2 = self.seq2.get_kmers(k)\n",
    "        set1 = set(kmers1)\n",
    "        set2 = set(kmers2)\n",
    "\n",
    "        pos1, pos2 = self.get_intersecting_kmer_positions(kmers1, kmers2, set1, set2)\n",
    "\n",
    "        return [\n",
    "            self.seq1.name,\n",
    "            self.seq2.name,\n",
    "            self.seq1.moltype,\n",
    "            k,\n",
    "            self.calculate_jaccard(set1, set2),\n",
    "            len(kmers1),\n",
    "            len(set1),\n",
    "            pos1,\n",
    "            len(kmers2),\n",
    "            len(set2),\n",
    "            pos2,\n",
    "        ]\n",
    "\n",
    "    def _get_column_names(self) -> List[str]:\n",
    "        return [\n",
    "            \"query\",\n",
    "            \"match\",\n",
    "            \"moltype\",\n",
    "            \"ksize\",\n",
    "            \"jaccard\",\n",
    "            \"query_n_kmers\",\n",
    "            \"query_n_unique_kmers\",\n",
    "            \"query_intersection_positions\",\n",
    "            \"match_n_kmers\",\n",
    "            \"match_n_unique_kmers\",\n",
    "            \"match_intersection_positions\",\n",
    "        ]\n",
    "\n",
    "\n",
    "# Example usage\n",
    "def compare_sequences(\n",
    "    seq1_str: str,\n",
    "    seq2_str: str,\n",
    "    seq1_name: str,\n",
    "    seq2_name: str,\n",
    "    start_k: int = 5,\n",
    "    end_k: int = 30,\n",
    ") -> pd.DataFrame:\n",
    "    seq1 = Sequence(seq1_str, seq1_name)\n",
    "    seq2 = Sequence(seq2_str, seq2_name)\n",
    "    analyzer = KmerAnalyzer(seq1, seq2)\n",
    "    return analyzer.analyze_kmer_range(start_k, end_k)\n",
    "\n",
    "\n",
    "# Usage example:\n",
    "df = compare_sequences(ced9_seq, bcl2_seq, \"CED9\", \"BCL2\", end_k=10)\n",
    "df"
   ]
  },
  {
   "cell_type": "code",
   "execution_count": 13,
   "id": "16bebea4",
   "metadata": {},
   "outputs": [
    {
     "data": {
      "text/plain": [
       "[[21, 'bbced'],\n",
       " [27, 'febed'],\n",
       " [28, 'ebedb'],\n",
       " [32, 'bbcbb'],\n",
       " [46, 'cebbb'],\n",
       " [47, 'ebbbb'],\n",
       " [48, 'bbbbd'],\n",
       " [49, 'bbbdc'],\n",
       " [50, 'bbdcb'],\n",
       " [94, 'cbecf'],\n",
       " [100, 'bbbbe'],\n",
       " [101, 'bbbeb'],\n",
       " [111, 'cdcee'],\n",
       " [137, 'eebeb'],\n",
       " [167, 'fbdee'],\n",
       " [168, 'bdeeb'],\n",
       " [171, 'ebeeb'],\n",
       " [177, 'bbfeb'],\n",
       " [185, 'ecbec'],\n",
       " [217, 'cdbfc'],\n",
       " [252, 'beebb'],\n",
       " [256, 'bbebb'],\n",
       " [262, 'bebee'],\n",
       " [264, 'beebe']]"
      ]
     },
     "execution_count": 13,
     "metadata": {},
     "output_type": "execute_result"
    }
   ],
   "source": [
    "kmer5ced9bcl2intersection = df.iloc[0]['query_intersection_positions']\n",
    "kmer5ced9bcl2intersection"
   ]
  },
  {
   "cell_type": "code",
   "execution_count": 14,
   "id": "2e36f717",
   "metadata": {},
   "outputs": [
    {
     "data": {
      "text/plain": [
       "[[10, 'cdcee'],\n",
       " [24, 'cdbfc'],\n",
       " [33, 'cebbb'],\n",
       " [34, 'ebbbb'],\n",
       " [43, 'bbbbe'],\n",
       " [49, 'bbcbb'],\n",
       " [58, 'bbbbd'],\n",
       " [59, 'bbbdc'],\n",
       " [60, 'bbdcb'],\n",
       " [82, 'bbbeb'],\n",
       " [83, 'bbebb'],\n",
       " [115, 'bbced'],\n",
       " [139, 'cbecf'],\n",
       " [143, 'fbdee'],\n",
       " [144, 'bdeeb'],\n",
       " [158, 'ecbec'],\n",
       " [213, 'febed'],\n",
       " [214, 'ebedb'],\n",
       " [218, 'beebe'],\n",
       " [219, 'eebeb'],\n",
       " [221, 'bebee'],\n",
       " [222, 'ebeeb'],\n",
       " [223, 'beebb'],\n",
       " [232, 'bbfeb']]"
      ]
     },
     "execution_count": 14,
     "metadata": {},
     "output_type": "execute_result"
    }
   ],
   "source": [
    "kmer5ced9bcl2match = df.iloc[0]['match_intersection_positions']\n",
    "kmer5ced9bcl2match"
   ]
  },
  {
   "cell_type": "code",
   "execution_count": 15,
   "id": "edeff041",
   "metadata": {},
   "outputs": [
    {
     "data": {
      "text/plain": [
       "[[27, 'febedb'],\n",
       " [46, 'cebbbb'],\n",
       " [48, 'bbbbdc'],\n",
       " [49, 'bbbdcb'],\n",
       " [100, 'bbbbeb'],\n",
       " [167, 'fbdeeb'],\n",
       " [255, 'bbbebb'],\n",
       " [262, 'bebeeb']]"
      ]
     },
     "execution_count": 15,
     "metadata": {},
     "output_type": "execute_result"
    }
   ],
   "source": [
    "kmer6ced9bcl2intersection = df.iloc[1]['query_intersection_positions']\n",
    "kmer6ced9bcl2intersection"
   ]
  },
  {
   "cell_type": "code",
   "execution_count": 16,
   "id": "be57f3e2",
   "metadata": {},
   "outputs": [
    {
     "data": {
      "text/plain": [
       "[[33, 'cebbbb'],\n",
       " [58, 'bbbbdc'],\n",
       " [59, 'bbbdcb'],\n",
       " [81, 'bbbbeb'],\n",
       " [82, 'bbbebb'],\n",
       " [143, 'fbdeeb'],\n",
       " [213, 'febedb'],\n",
       " [221, 'bebeeb']]"
      ]
     },
     "execution_count": 16,
     "metadata": {},
     "output_type": "execute_result"
    }
   ],
   "source": [
    "kmer6ced9bcl2match = df.iloc[1]['match_intersection_positions']\n",
    "kmer6ced9bcl2match"
   ]
  },
  {
   "cell_type": "code",
   "execution_count": 17,
   "id": "29e43f64-b3f0-4bdd-9286-004d0749ffe9",
   "metadata": {
    "execution": {
     "iopub.execute_input": "2024-11-12T21:31:33.206756Z",
     "iopub.status.busy": "2024-11-12T21:31:33.206652Z",
     "iopub.status.idle": "2024-11-12T21:31:33.237938Z",
     "shell.execute_reply": "2024-11-12T21:31:33.237703Z",
     "shell.execute_reply.started": "2024-11-12T21:31:33.206746Z"
    }
   },
   "outputs": [
    {
     "data": {
      "text/html": [
       "<div>\n",
       "<style scoped>\n",
       "    .dataframe tbody tr th:only-of-type {\n",
       "        vertical-align: middle;\n",
       "    }\n",
       "\n",
       "    .dataframe tbody tr th {\n",
       "        vertical-align: top;\n",
       "    }\n",
       "\n",
       "    .dataframe thead th {\n",
       "        text-align: right;\n",
       "    }\n",
       "</style>\n",
       "<table border=\"1\" class=\"dataframe\">\n",
       "  <thead>\n",
       "    <tr style=\"text-align: right;\">\n",
       "      <th></th>\n",
       "      <th>query</th>\n",
       "      <th>match</th>\n",
       "      <th>moltype</th>\n",
       "      <th>ksize</th>\n",
       "      <th>jaccard</th>\n",
       "      <th>query_n_kmers</th>\n",
       "      <th>query_n_unique_kmers</th>\n",
       "      <th>query_intersection_positions</th>\n",
       "      <th>match_n_kmers</th>\n",
       "      <th>match_n_unique_kmers</th>\n",
       "      <th>match_intersection_positions</th>\n",
       "    </tr>\n",
       "  </thead>\n",
       "  <tbody>\n",
       "    <tr>\n",
       "      <th>0</th>\n",
       "      <td>CED9</td>\n",
       "      <td>BCL2</td>\n",
       "      <td>dayhoff</td>\n",
       "      <td>5</td>\n",
       "      <td>0.055046</td>\n",
       "      <td>276</td>\n",
       "      <td>256</td>\n",
       "      <td>[[21, bbced], [27, febed], [28, ebedb], [32, b...</td>\n",
       "      <td>235</td>\n",
       "      <td>204</td>\n",
       "      <td>[[10, cdcee], [24, cdbfc], [33, cebbb], [34, e...</td>\n",
       "    </tr>\n",
       "    <tr>\n",
       "      <th>1</th>\n",
       "      <td>CED9</td>\n",
       "      <td>BCL2</td>\n",
       "      <td>dayhoff</td>\n",
       "      <td>6</td>\n",
       "      <td>0.016667</td>\n",
       "      <td>275</td>\n",
       "      <td>273</td>\n",
       "      <td>[[27, febedb], [46, cebbbb], [48, bbbbdc], [49...</td>\n",
       "      <td>234</td>\n",
       "      <td>215</td>\n",
       "      <td>[[33, cebbbb], [58, bbbbdc], [59, bbbdcb], [81...</td>\n",
       "    </tr>\n",
       "  </tbody>\n",
       "</table>\n",
       "</div>"
      ],
      "text/plain": [
       "  query match  moltype  ksize   jaccard  query_n_kmers  query_n_unique_kmers  \\\n",
       "0  CED9  BCL2  dayhoff      5  0.055046            276                   256   \n",
       "1  CED9  BCL2  dayhoff      6  0.016667            275                   273   \n",
       "\n",
       "                        query_intersection_positions  match_n_kmers  \\\n",
       "0  [[21, bbced], [27, febed], [28, ebedb], [32, b...            235   \n",
       "1  [[27, febedb], [46, cebbbb], [48, bbbbdc], [49...            234   \n",
       "\n",
       "   match_n_unique_kmers                       match_intersection_positions  \n",
       "0                   204  [[10, cdcee], [24, cdbfc], [33, cebbb], [34, e...  \n",
       "1                   215  [[33, cebbbb], [58, bbbbdc], [59, bbbdcb], [81...  "
      ]
     },
     "execution_count": 17,
     "metadata": {},
     "output_type": "execute_result"
    }
   ],
   "source": [
    "df.query(\"ksize >= 5 and ksize <= 6\")"
   ]
  },
  {
   "cell_type": "markdown",
   "id": "bba34ea5-8164-42b3-ba03-054e225b2963",
   "metadata": {},
   "source": [
    "### Make Sourmash signatures for CED9, BCL2"
   ]
  },
  {
   "cell_type": "markdown",
   "id": "f91b6c5b-254d-4a33-9afe-e1d442a13f65",
   "metadata": {},
   "source": [
    "#### CED9"
   ]
  },
  {
   "cell_type": "code",
   "execution_count": 18,
   "id": "cdacb2ab-faa7-45f4-b43b-6e43ff61375f",
   "metadata": {
    "execution": {
     "iopub.execute_input": "2024-11-12T21:54:04.752153Z",
     "iopub.status.busy": "2024-11-12T21:54:04.751809Z",
     "iopub.status.idle": "2024-11-12T21:54:04.754887Z",
     "shell.execute_reply": "2024-11-12T21:54:04.754601Z",
     "shell.execute_reply.started": "2024-11-12T21:54:04.752139Z"
    }
   },
   "outputs": [
    {
     "data": {
      "text/plain": [
       "'MTRCTADNSLTNPAYRRRTMATGEMKEFLGIKGTEPTDFGINSDAQDLPSPSRQASTRRMSIGESIDGKINDWEEPRLDIEGFVVDYFTHRIRQNGMEWFGAPGLPCGVQPEHEMMRVMGTIFEKKHAENFETFCEQLLAVPRISFSLYQDVVRTVGNAQTDQCPMSYGRLIGLISFGGFVAAKMMESVELQGQVRNLFVYTSLFIKTRIRNNWKEHNRSWDDFMTLGKQMKEDYERAEAEKVGRRKQNRRWSMIGAGVTAGAIGIVGVVVCGRMMFSLK'"
      ]
     },
     "execution_count": 18,
     "metadata": {},
     "output_type": "execute_result"
    }
   ],
   "source": [
    "ced9_seq"
   ]
  },
  {
   "cell_type": "code",
   "execution_count": 19,
   "id": "6f770cb4-4c3a-4968-b3ae-27ccede71ecb",
   "metadata": {
    "execution": {
     "iopub.execute_input": "2024-11-12T21:54:53.753581Z",
     "iopub.status.busy": "2024-11-12T21:54:53.753250Z",
     "iopub.status.idle": "2024-11-12T21:54:53.756533Z",
     "shell.execute_reply": "2024-11-12T21:54:53.756224Z",
     "shell.execute_reply.started": "2024-11-12T21:54:53.753567Z"
    }
   },
   "outputs": [
    {
     "name": "stdout",
     "output_type": "stream",
     "text": [
      "Overwriting test-data/ced9.fasta\n"
     ]
    }
   ],
   "source": [
    "%%file test-data/ced9.fasta\n",
    ">ced9\n",
    "MTRCTADNSLTNPAYRRRTMATGEMKEFLGIKGTEPTDFGINSDAQDLPSPSRQASTRRMSIGESIDGKINDWEEPRLDIEGFVVDYFTHRIRQNGMEWFGAPGLPCGVQPEHEMMRVMGTIFEKKHAENFETFCEQLLAVPRISFSLYQDVVRTVGNAQTDQCPMSYGRLIGLISFGGFVAAKMMESVELQGQVRNLFVYTSLFIKTRIRNNWKEHNRSWDDFMTLGKQMKEDYERAEAEKVGRRKQNRRWSMIGAGVTAGAIGIVGVVVCGRMMFSLK"
   ]
  },
  {
   "cell_type": "markdown",
   "id": "b3a9e2d8-84e2-44a0-a9ec-2f15a41d9340",
   "metadata": {},
   "source": [
    "#### P66"
   ]
  },
  {
   "cell_type": "code",
   "execution_count": 20,
   "id": "0b2b11c3-549c-4b50-86cf-46b68830f52e",
   "metadata": {
    "execution": {
     "iopub.execute_input": "2024-11-12T21:54:56.856675Z",
     "iopub.status.busy": "2024-11-12T21:54:56.856350Z",
     "iopub.status.idle": "2024-11-12T21:54:56.859329Z",
     "shell.execute_reply": "2024-11-12T21:54:56.859070Z",
     "shell.execute_reply.started": "2024-11-12T21:54:56.856662Z"
    }
   },
   "outputs": [
    {
     "data": {
      "text/plain": [
       "'MAHAGRTGYDNREIVMKYIHYKLSQRGYEWDAGDVGAAPPGAAPAPGIFSSQPGHTPHPAASRDPVARTSPLQTPAAPGAAAGPALSPVPPVVHLTLRQAGDDFSRRYRRDFAEMSSQLHLTPFTARGRFATVVEELFRDGVNWGRIVAFFEFGGVMCVESVNREMSPLVDNIALWMTEYLNRHLHTWIQDNGGWDAFVELYGPSMRPLFDFSWLSLKTLLSLALVGACITLGAYLGHK'"
      ]
     },
     "execution_count": 20,
     "metadata": {},
     "output_type": "execute_result"
    }
   ],
   "source": [
    "bcl2_seq"
   ]
  },
  {
   "cell_type": "code",
   "execution_count": 21,
   "id": "0a0eb7e6-7cf0-473c-a3b9-651bdfa074eb",
   "metadata": {
    "execution": {
     "iopub.execute_input": "2024-11-12T21:55:06.101451Z",
     "iopub.status.busy": "2024-11-12T21:55:06.101120Z",
     "iopub.status.idle": "2024-11-12T21:55:06.104798Z",
     "shell.execute_reply": "2024-11-12T21:55:06.104500Z",
     "shell.execute_reply.started": "2024-11-12T21:55:06.101437Z"
    }
   },
   "outputs": [
    {
     "name": "stdout",
     "output_type": "stream",
     "text": [
      "Overwriting test-data/bcl2.fasta\n"
     ]
    }
   ],
   "source": [
    "%%file test-data/bcl2.fasta\n",
    ">bcl2\n",
    "MAHAGRTGYDNREIVMKYIHYKLSQRGYEWDAGDVGAAPPGAAPAPGIFSSQPGHTPHPAASRDPVARTSPLQTPAAPGAAAGPALSPVPPVVHLTLRQAGDDFSRRYRRDFAEMSSQLHLTPFTARGRFATVVEELFRDGVNWGRIVAFFEFGGVMCVESVNREMSPLVDNIALWMTEYLNRHLHTWIQDNGGWDAFVELYGPSMRPLFDFSWLSLKTLLSLALVGACITLGAYLGHK"
   ]
  },
  {
   "cell_type": "markdown",
   "id": "b43fab68-3588-492d-9e7b-f8fab806725a",
   "metadata": {},
   "source": [
    "### Compute signatures"
   ]
  },
  {
   "cell_type": "code",
   "execution_count": 22,
   "id": "52d8bf59-8e38-4578-825d-82e780b6a513",
   "metadata": {
    "execution": {
     "iopub.execute_input": "2024-11-12T21:55:37.747266Z",
     "iopub.status.busy": "2024-11-12T21:55:37.746938Z",
     "iopub.status.idle": "2024-11-12T21:55:39.944359Z",
     "shell.execute_reply": "2024-11-12T21:55:39.943940Z",
     "shell.execute_reply.started": "2024-11-12T21:55:37.747252Z"
    }
   },
   "outputs": [
    {
     "name": "stderr",
     "output_type": "stream",
     "text": [
      "\n",
      "\u001b[K\n",
      "== This is sourmash version 4.8.12. ==\n",
      "\n",
      "\u001b[K== Please cite Irber et. al (2024), doi:10.21105/joss.06830. ==\n",
      "\n",
      "\n",
      "\u001b[KWARNING: scaled value should be >= 100. Continuing anyway.\n",
      "\n",
      "\u001b[Kcomputing signatures for files: test-data/ced9.fasta\n",
      "\n",
      "\u001b[KComputing a total of 1 signature(s) for each input.\n",
      "\n",
      "\u001b[K... reading sequences from test-data/ced9.fasta\n",
      "\n",
      "\u001b[K... test-data/ced9.fasta 1 sequences\n",
      "\n",
      "\u001b[Kcalculated 1 signature for 1 sequences taken from 1 files\n",
      "\n",
      "\u001b[Ksaved 1 signature(s) to 'test-data/ced9.dayhoff.k5.sig'\n",
      "\n",
      "\u001b[K\n",
      "== This is sourmash version 4.8.12. ==\n",
      "\n",
      "\u001b[K== Please cite Irber et. al (2024), doi:10.21105/joss.06830. ==\n",
      "\n",
      "\n",
      "\u001b[KWARNING: scaled value should be >= 100. Continuing anyway.\n",
      "\n",
      "\u001b[Kcomputing signatures for files: test-data/bcl2.fasta\n",
      "\n",
      "\u001b[KComputing a total of 1 signature(s) for each input.\n",
      "\n",
      "\u001b[K... reading sequences from test-data/bcl2.fasta\n",
      "\n",
      "\u001b[K... test-data/bcl2.fasta 1 sequences\n",
      "\n",
      "\u001b[Kcalculated 1 signature for 1 sequences taken from 1 files\n",
      "\n",
      "\u001b[Ksaved 1 signature(s) to 'test-data/bcl2.dayhoff.k5.sig'\n",
      "\n",
      "\u001b[K\n",
      "== This is sourmash version 4.8.12. ==\n",
      "\n",
      "\u001b[K== Please cite Irber et. al (2024), doi:10.21105/joss.06830. ==\n",
      "\n",
      "\n",
      "\u001b[KWARNING: scaled value should be >= 100. Continuing anyway.\n",
      "\n",
      "\u001b[Kcomputing signatures for files: test-data/ced9.fasta\n",
      "\n",
      "\u001b[KComputing a total of 1 signature(s) for each input.\n",
      "\n",
      "\u001b[K... reading sequences from test-data/ced9.fasta\n",
      "\n",
      "\u001b[K... test-data/ced9.fasta 1 sequences\n",
      "\n",
      "\u001b[Kcalculated 1 signature for 1 sequences taken from 1 files\n",
      "\n",
      "\u001b[Ksaved 1 signature(s) to 'test-data/ced9.dayhoff.k6.sig'\n",
      "\n",
      "\u001b[K\n",
      "== This is sourmash version 4.8.12. ==\n",
      "\n",
      "\u001b[K== Please cite Irber et. al (2024), doi:10.21105/joss.06830. ==\n",
      "\n",
      "\n",
      "\u001b[KWARNING: scaled value should be >= 100. Continuing anyway.\n",
      "\n",
      "\u001b[Kcomputing signatures for files: test-data/bcl2.fasta\n",
      "\n",
      "\u001b[KComputing a total of 1 signature(s) for each input.\n",
      "\n",
      "\u001b[K... reading sequences from test-data/bcl2.fasta\n",
      "\n",
      "\u001b[K... test-data/bcl2.fasta 1 sequences\n",
      "\n",
      "\u001b[Kcalculated 1 signature for 1 sequences taken from 1 files\n",
      "\n",
      "\u001b[Ksaved 1 signature(s) to 'test-data/bcl2.dayhoff.k6.sig'\n"
     ]
    }
   ],
   "source": [
    "ksizes = 5, 6\n",
    "ced9_bcl2_fastas = {\"ced9\": \"test-data/ced9.fasta\", \"bcl2\": \"test-data/bcl2.fasta\"}\n",
    "ced9_bcl2_sigfiles = {}\n",
    "\n",
    "\n",
    "for ksize in ksizes:\n",
    "    for name, fasta in ced9_bcl2_fastas.items():\n",
    "        param_string = f\"dayhoff,scaled=1,k={ksize}\"\n",
    "        sig = f\"test-data/{name}.dayhoff.k{ksize}.sig\"\n",
    "        ! sourmash sketch protein -p $param_string --name $name $fasta -o $sig\n",
    "        ced9_bcl2_sigfiles[(name, ksize)] = sig"
   ]
  },
  {
   "cell_type": "markdown",
   "id": "39fa469c-4799-4c64-b683-816ae26948ca",
   "metadata": {},
   "source": [
    "### Load Signatures"
   ]
  },
  {
   "cell_type": "code",
   "execution_count": 23,
   "id": "953365a4-f46e-45ae-9fb9-944c1af5e43b",
   "metadata": {
    "execution": {
     "iopub.execute_input": "2024-11-12T21:55:57.556563Z",
     "iopub.status.busy": "2024-11-12T21:55:57.556065Z",
     "iopub.status.idle": "2024-11-12T21:55:57.563257Z",
     "shell.execute_reply": "2024-11-12T21:55:57.563020Z",
     "shell.execute_reply.started": "2024-11-12T21:55:57.556546Z"
    }
   },
   "outputs": [
    {
     "data": {
      "text/plain": [
       "{5: {'ced9': SourmashSignature('ced9', 1dd6b6f2),\n",
       "  'bcl2': SourmashSignature('bcl2', 49f32c24)},\n",
       " 6: {'ced9': SourmashSignature('ced9', 1dd6b6f2),\n",
       "  'bcl2': SourmashSignature('bcl2', 49f32c24)}}"
      ]
     },
     "execution_count": 23,
     "metadata": {},
     "output_type": "execute_result"
    }
   ],
   "source": [
    "ksizes = 5, 6\n",
    "ced9_bcl2_sigs = dict.fromkeys(ksizes, {})\n",
    "\n",
    "for (name, ksize), sigfile in ced9_bcl2_sigfiles.items():\n",
    "    ced9_bcl2_sigs[ksize][name] = list(sourmash.load_file_as_signatures(sigfile))[0]\n",
    "ced9_bcl2_sigs"
   ]
  },
  {
   "cell_type": "markdown",
   "id": "2795adfb-6bbd-47ef-8bd4-a22a22129813",
   "metadata": {},
   "source": [
    "### Show SigSeq Alignment"
   ]
  },
  {
   "cell_type": "code",
   "execution_count": 24,
   "id": "12131870-92f9-42cd-9b76-842dd2b429aa",
   "metadata": {
    "execution": {
     "iopub.execute_input": "2024-11-12T21:56:30.609180Z",
     "iopub.status.busy": "2024-11-12T21:56:30.608857Z",
     "iopub.status.idle": "2024-11-12T21:56:30.618914Z",
     "shell.execute_reply": "2024-11-12T21:56:30.618645Z",
     "shell.execute_reply.started": "2024-11-12T21:56:30.609167Z"
    }
   },
   "outputs": [
    {
     "name": "stdout",
     "output_type": "stream",
     "text": [
      "ksize: 5\n",
      "Non-sequential indices -- Previous: 33, current: 58\n",
      "ksize: 6\n",
      "Non-sequential indices -- Previous: 33, current: 58\n"
     ]
    }
   ],
   "source": [
    "from sigseq import SigSeq\n",
    "\n",
    "for ksize, sigs in ced9_bcl2_sigs.items():\n",
    "    print(f\"ksize: {ksize}\")\n",
    "\n",
    "    ced9_sigseq = SigSeq(sigs[\"ced9\"], ced9_seq)\n",
    "    bcl2_sigseq = SigSeq(sigs[\"bcl2\"], bcl2_seq)\n",
    "\n",
    "    try:\n",
    "        ced9_sigseq.display_alignment(bcl2_sigseq)\n",
    "    except ValueError as e:\n",
    "        print(e)\n",
    "        continue"
   ]
  },
  {
   "cell_type": "code",
   "execution_count": 25,
   "id": "c422de6c",
   "metadata": {},
   "outputs": [
    {
     "data": {
      "text/html": [
       "<div>\n",
       "<style scoped>\n",
       "    .dataframe tbody tr th:only-of-type {\n",
       "        vertical-align: middle;\n",
       "    }\n",
       "\n",
       "    .dataframe tbody tr th {\n",
       "        vertical-align: top;\n",
       "    }\n",
       "\n",
       "    .dataframe thead th {\n",
       "        text-align: right;\n",
       "    }\n",
       "</style>\n",
       "<table border=\"1\" class=\"dataframe\">\n",
       "  <thead>\n",
       "    <tr style=\"text-align: right;\">\n",
       "      <th></th>\n",
       "      <th>bcl2 Index</th>\n",
       "      <th>dayhoff</th>\n",
       "      <th>bcl2 protein sequence</th>\n",
       "      <th>hashval</th>\n",
       "      <th>ced9 Index</th>\n",
       "      <th>ced9 protein sequence</th>\n",
       "    </tr>\n",
       "  </thead>\n",
       "  <tbody>\n",
       "    <tr>\n",
       "      <th>0</th>\n",
       "      <td>33</td>\n",
       "      <td>cebbbb</td>\n",
       "      <td>DVGAAP</td>\n",
       "      <td>6479202331727414461</td>\n",
       "      <td>46</td>\n",
       "      <td>DLPSPS</td>\n",
       "    </tr>\n",
       "    <tr>\n",
       "      <th>1</th>\n",
       "      <td>58</td>\n",
       "      <td>bbbbdc</td>\n",
       "      <td>PAASRD</td>\n",
       "      <td>5816940296614300296</td>\n",
       "      <td>48</td>\n",
       "      <td>PSPSRQ</td>\n",
       "    </tr>\n",
       "    <tr>\n",
       "      <th>2</th>\n",
       "      <td>59</td>\n",
       "      <td>bbbdcb</td>\n",
       "      <td>AASRDP</td>\n",
       "      <td>10771052746003026235</td>\n",
       "      <td>49</td>\n",
       "      <td>SPSRQA</td>\n",
       "    </tr>\n",
       "    <tr>\n",
       "      <th>3</th>\n",
       "      <td>81</td>\n",
       "      <td>bbbbeb</td>\n",
       "      <td>AGPALS</td>\n",
       "      <td>10556274865413177094</td>\n",
       "      <td>100</td>\n",
       "      <td>GAPGLP</td>\n",
       "    </tr>\n",
       "    <tr>\n",
       "      <th>4</th>\n",
       "      <td>81</td>\n",
       "      <td>bbbbeb</td>\n",
       "      <td>AGPALS</td>\n",
       "      <td>10556274865413177094</td>\n",
       "      <td>259</td>\n",
       "      <td>TAGAIG</td>\n",
       "    </tr>\n",
       "    <tr>\n",
       "      <th>5</th>\n",
       "      <td>82</td>\n",
       "      <td>bbbebb</td>\n",
       "      <td>GPALSP</td>\n",
       "      <td>8719832870249857062</td>\n",
       "      <td>255</td>\n",
       "      <td>GAGVTA</td>\n",
       "    </tr>\n",
       "    <tr>\n",
       "      <th>6</th>\n",
       "      <td>143</td>\n",
       "      <td>fbdeeb</td>\n",
       "      <td>WGRIVA</td>\n",
       "      <td>7575229128032859655</td>\n",
       "      <td>167</td>\n",
       "      <td>YGRLIG</td>\n",
       "    </tr>\n",
       "    <tr>\n",
       "      <th>7</th>\n",
       "      <td>213</td>\n",
       "      <td>febedb</td>\n",
       "      <td>WLSLKT</td>\n",
       "      <td>17355917625287670764</td>\n",
       "      <td>27</td>\n",
       "      <td>FLGIKG</td>\n",
       "    </tr>\n",
       "    <tr>\n",
       "      <th>8</th>\n",
       "      <td>221</td>\n",
       "      <td>bebeeb</td>\n",
       "      <td>SLALVG</td>\n",
       "      <td>9437022667751630113</td>\n",
       "      <td>262</td>\n",
       "      <td>AIGIVG</td>\n",
       "    </tr>\n",
       "  </tbody>\n",
       "</table>\n",
       "</div>"
      ],
      "text/plain": [
       "   bcl2 Index dayhoff bcl2 protein sequence               hashval  ced9 Index  \\\n",
       "0          33  cebbbb                DVGAAP   6479202331727414461          46   \n",
       "1          58  bbbbdc                PAASRD   5816940296614300296          48   \n",
       "2          59  bbbdcb                AASRDP  10771052746003026235          49   \n",
       "3          81  bbbbeb                AGPALS  10556274865413177094         100   \n",
       "4          81  bbbbeb                AGPALS  10556274865413177094         259   \n",
       "5          82  bbbebb                GPALSP   8719832870249857062         255   \n",
       "6         143  fbdeeb                WGRIVA   7575229128032859655         167   \n",
       "7         213  febedb                WLSLKT  17355917625287670764          27   \n",
       "8         221  bebeeb                SLALVG   9437022667751630113         262   \n",
       "\n",
       "  ced9 protein sequence  \n",
       "0                DLPSPS  \n",
       "1                PSPSRQ  \n",
       "2                SPSRQA  \n",
       "3                GAPGLP  \n",
       "4                TAGAIG  \n",
       "5                GAGVTA  \n",
       "6                YGRLIG  \n",
       "7                FLGIKG  \n",
       "8                AIGIVG  "
      ]
     },
     "execution_count": 25,
     "metadata": {},
     "output_type": "execute_result"
    }
   ],
   "source": [
    "bcl2_overlap = ced9_sigseq.get_overlapping_kmers(bcl2_sigseq)\n",
    "ced9_overlap = bcl2_sigseq.get_overlapping_kmers(ced9_sigseq)\n",
    "\n",
    "\n",
    "columnbcl2 = ['bcl2 Index', 'dayhoff', 'bcl2 protein sequence', 'hashval']\n",
    "columnced9 = ['ced9 Index', 'dayhoff', 'ced9 protein sequence', 'hashval2']\n",
    "\n",
    "Sequencebcl2 = pd.DataFrame(bcl2_overlap, columns=columnbcl2)\n",
    "sequenceced9 = pd.DataFrame(ced9_overlap,columns=columnced9).drop(columns=['hashval2'])\n",
    "\n",
    "\n",
    "Overlap = Sequencebcl2.merge(sequenceced9, on='dayhoff', how='left')\n",
    "Overlap"
   ]
  },
  {
   "cell_type": "markdown",
   "id": "66214b65-33c1-4594-836d-0df045a8eb04",
   "metadata": {},
   "source": [
    "### "
   ]
  },
  {
   "cell_type": "markdown",
   "id": "e4cef2f1-dd57-491b-993c-24b85415af46",
   "metadata": {},
   "source": [
    "\n",
    "## P66 and CD47\n",
    "\n",
    "From [P66 is a bacterial mimic of CD47 that binds the anti-phagocytic receptor SIRPα and facilitates macrophage evasion by Borrelia burgdorferi](https://www.biorxiv.org/content/10.1101/2024.04.29.591704v1.full)\n",
    "\n",
    "> Protein alignments were performed through Uniprot (www.uniprot.org) using the Clustal Omega Program23,24. The following proteins were used for analysis: CD47_HUMAN (Q08722), and H7C7N8(P66)_BORBU (H7C7N8).\n",
    "\n"
   ]
  },
  {
   "cell_type": "code",
   "execution_count": 26,
   "id": "bdb27e70-40c1-4aa8-981d-3aa234a5496b",
   "metadata": {
    "execution": {
     "iopub.execute_input": "2024-11-12T21:31:34.148120Z",
     "iopub.status.busy": "2024-11-12T21:31:34.147864Z",
     "iopub.status.idle": "2024-11-12T21:31:34.150240Z",
     "shell.execute_reply": "2024-11-12T21:31:34.149995Z",
     "shell.execute_reply.started": "2024-11-12T21:31:34.148107Z"
    }
   },
   "outputs": [],
   "source": [
    "CD47_HUMAN = \"MWPLVAALLLGSACCGSAQLLFNKTKSVEFTFCNDTVVIPCFVTNMEAQNTTEVYVKWKFKGRDIYTFDGALNKSTVPTDFSSAKIEVSQLLKGDASLKMDKSDAVSHTGNYTCEVTELTREGETIIELKYRVVSWFSPNENILIVIFPIFAILLFWGQFGIKTLKYRSGGMDEKTIALLVAGLVITVIVIVGAILFVPGEYSLKNATGLGLIVTSTGILILLHYYVFSTAIGLTSFVIAILVIQVIAYILAVVGLSLCIAACIPMHGPLLISGLSILALAQLLGLVYMKFVASNQKTIQPPRKAVEEPLNAFKESKGMMNDE\""
   ]
  },
  {
   "cell_type": "code",
   "execution_count": 27,
   "id": "fe826dbe-334f-4038-8ef1-9682455e28f7",
   "metadata": {
    "execution": {
     "iopub.execute_input": "2024-11-12T21:31:34.345613Z",
     "iopub.status.busy": "2024-11-12T21:31:34.345364Z",
     "iopub.status.idle": "2024-11-12T21:31:34.347806Z",
     "shell.execute_reply": "2024-11-12T21:31:34.347546Z",
     "shell.execute_reply.started": "2024-11-12T21:31:34.345600Z"
    }
   },
   "outputs": [],
   "source": [
    "H7C7N8_BORBU = \"MKSHILYKLIIFLTTSAAIFAADALKEKDIFKINPWMPTFGFENTSEFRLDMDELVPGFENKSKITIKLKPFEANPELGKDDPFSAYIKVEDLALKAEGKKGDQFKIDVGDITAQINMYDFFIKISTMTDFDFNKESLFSFAPMTGFKSTYYGFPSNDRAVRGTILARGTSKNIGTIQLGYKLPKLDLTFAIGGTGTGNRNQENDKDTPYNKTYQGILYGIQATWKPIKNLLDQNEDTKSVIAETPFELNFGLSGAYGNETFNNSSITYSLKDKSVVGNDLLSPTLSNSAILASFGAKYKLGLTKINDKNTYLILQMGTDFGIDPFASDFSIFGHISKAANFKKETPSDPNKKAEIFDPNGNALNFSKNTELGIAFSTGASIGFAWNKDTGEKESWAIKGSDSYSTRLFGEQDKKSGVALGISYGQNLYRSKDTEKRLKTISENAFQSLNVEISSYEDNKKGIINGLGWITSIGLYDILRQKSVENYPTTISSTTENNQTEQSSTSTKTTTPNLTFEDAMKLGLALYLDYAIPIASISTEAYVVPYIGAYILGPSNKLSSDATKIYLKTGLSLEKLIRFTTISLGWDSNNIIELANKNTNNAAIGSAFLQFKIAYSGS\""
   ]
  },
  {
   "cell_type": "code",
   "execution_count": 28,
   "id": "ad498f99-a8c2-403f-b827-c6065c02725a",
   "metadata": {
    "execution": {
     "iopub.execute_input": "2024-11-12T21:31:34.529424Z",
     "iopub.status.busy": "2024-11-12T21:31:34.529059Z",
     "iopub.status.idle": "2024-11-12T21:31:34.653853Z",
     "shell.execute_reply": "2024-11-12T21:31:34.653567Z",
     "shell.execute_reply.started": "2024-11-12T21:31:34.529412Z"
    }
   },
   "outputs": [
    {
     "data": {
      "text/html": [
       "<div>\n",
       "<style scoped>\n",
       "    .dataframe tbody tr th:only-of-type {\n",
       "        vertical-align: middle;\n",
       "    }\n",
       "\n",
       "    .dataframe tbody tr th {\n",
       "        vertical-align: top;\n",
       "    }\n",
       "\n",
       "    .dataframe thead th {\n",
       "        text-align: right;\n",
       "    }\n",
       "</style>\n",
       "<table border=\"1\" class=\"dataframe\">\n",
       "  <thead>\n",
       "    <tr style=\"text-align: right;\">\n",
       "      <th></th>\n",
       "      <th>query</th>\n",
       "      <th>match</th>\n",
       "      <th>moltype</th>\n",
       "      <th>ksize</th>\n",
       "      <th>jaccard</th>\n",
       "      <th>query_n_kmers</th>\n",
       "      <th>query_n_unique_kmers</th>\n",
       "      <th>query_intersection_positions</th>\n",
       "      <th>match_n_kmers</th>\n",
       "      <th>match_n_unique_kmers</th>\n",
       "      <th>match_intersection_positions</th>\n",
       "    </tr>\n",
       "  </thead>\n",
       "  <tbody>\n",
       "    <tr>\n",
       "      <th>0</th>\n",
       "      <td>CD47</td>\n",
       "      <td>p66</td>\n",
       "      <td>dayhoff</td>\n",
       "      <td>5</td>\n",
       "      <td>0.098266</td>\n",
       "      <td>319</td>\n",
       "      <td>269</td>\n",
       "      <td>[[2, beebb], [8, eebbb], [15, bbbce], [26, bec...</td>\n",
       "      <td>614</td>\n",
       "      <td>491</td>\n",
       "      <td>[[9, eefeb], [10, efebb], [12, ebbbb], [14, bb...</td>\n",
       "    </tr>\n",
       "    <tr>\n",
       "      <th>1</th>\n",
       "      <td>CD47</td>\n",
       "      <td>p66</td>\n",
       "      <td>dayhoff</td>\n",
       "      <td>6</td>\n",
       "      <td>0.026838</td>\n",
       "      <td>318</td>\n",
       "      <td>294</td>\n",
       "      <td>[[46, cbccbb], [74, bbebbc], [76, ebbcfb], [83...</td>\n",
       "      <td>613</td>\n",
       "      <td>586</td>\n",
       "      <td>[[9, eefebb], [75, bcebdc], [105, decebc], [10...</td>\n",
       "    </tr>\n",
       "    <tr>\n",
       "      <th>2</th>\n",
       "      <td>CD47</td>\n",
       "      <td>p66</td>\n",
       "      <td>dayhoff</td>\n",
       "      <td>7</td>\n",
       "      <td>0.006579</td>\n",
       "      <td>317</td>\n",
       "      <td>306</td>\n",
       "      <td>[[84, decebce], [105, ebdbbcf], [197, ebbcfbe]...</td>\n",
       "      <td>612</td>\n",
       "      <td>612</td>\n",
       "      <td>[[105, decebce], [154, bbccdbe], [159, bedbbee...</td>\n",
       "    </tr>\n",
       "    <tr>\n",
       "      <th>3</th>\n",
       "      <td>CD47</td>\n",
       "      <td>p66</td>\n",
       "      <td>dayhoff</td>\n",
       "      <td>8</td>\n",
       "      <td>0.000000</td>\n",
       "      <td>316</td>\n",
       "      <td>314</td>\n",
       "      <td>[]</td>\n",
       "      <td>611</td>\n",
       "      <td>611</td>\n",
       "      <td>[]</td>\n",
       "    </tr>\n",
       "    <tr>\n",
       "      <th>4</th>\n",
       "      <td>CD47</td>\n",
       "      <td>p66</td>\n",
       "      <td>dayhoff</td>\n",
       "      <td>9</td>\n",
       "      <td>0.000000</td>\n",
       "      <td>315</td>\n",
       "      <td>315</td>\n",
       "      <td>[]</td>\n",
       "      <td>610</td>\n",
       "      <td>610</td>\n",
       "      <td>[]</td>\n",
       "    </tr>\n",
       "    <tr>\n",
       "      <th>5</th>\n",
       "      <td>CD47</td>\n",
       "      <td>p66</td>\n",
       "      <td>dayhoff</td>\n",
       "      <td>10</td>\n",
       "      <td>0.000000</td>\n",
       "      <td>314</td>\n",
       "      <td>314</td>\n",
       "      <td>[]</td>\n",
       "      <td>609</td>\n",
       "      <td>609</td>\n",
       "      <td>[]</td>\n",
       "    </tr>\n",
       "  </tbody>\n",
       "</table>\n",
       "</div>"
      ],
      "text/plain": [
       "  query match  moltype  ksize   jaccard  query_n_kmers  query_n_unique_kmers  \\\n",
       "0  CD47   p66  dayhoff      5  0.098266            319                   269   \n",
       "1  CD47   p66  dayhoff      6  0.026838            318                   294   \n",
       "2  CD47   p66  dayhoff      7  0.006579            317                   306   \n",
       "3  CD47   p66  dayhoff      8  0.000000            316                   314   \n",
       "4  CD47   p66  dayhoff      9  0.000000            315                   315   \n",
       "5  CD47   p66  dayhoff     10  0.000000            314                   314   \n",
       "\n",
       "                        query_intersection_positions  match_n_kmers  \\\n",
       "0  [[2, beebb], [8, eebbb], [15, bbbce], [26, bec...            614   \n",
       "1  [[46, cbccbb], [74, bbebbc], [76, ebbcfb], [83...            613   \n",
       "2  [[84, decebce], [105, ebdbbcf], [197, ebbcfbe]...            612   \n",
       "3                                                 []            611   \n",
       "4                                                 []            610   \n",
       "5                                                 []            609   \n",
       "\n",
       "   match_n_unique_kmers                       match_intersection_positions  \n",
       "0                   491  [[9, eefeb], [10, efebb], [12, ebbbb], [14, bb...  \n",
       "1                   586  [[9, eefebb], [75, bcebdc], [105, decebc], [10...  \n",
       "2                   612  [[105, decebce], [154, bbccdbe], [159, bedbbee...  \n",
       "3                   611                                                 []  \n",
       "4                   610                                                 []  \n",
       "5                   609                                                 []  "
      ]
     },
     "execution_count": 28,
     "metadata": {},
     "output_type": "execute_result"
    }
   ],
   "source": [
    "p66_cd47_df = compare_sequences(CD47_HUMAN, H7C7N8_BORBU, \"CD47\", \"p66\",end_k=10)\n",
    "p66_cd47_df"
   ]
  },
  {
   "cell_type": "code",
   "execution_count": 29,
   "id": "5e162f4d",
   "metadata": {},
   "outputs": [
    {
     "data": {
      "text/plain": [
       "[[21, 'bbced'],\n",
       " [27, 'febed'],\n",
       " [28, 'ebedb'],\n",
       " [32, 'bbcbb'],\n",
       " [46, 'cebbb'],\n",
       " [47, 'ebbbb'],\n",
       " [48, 'bbbbd'],\n",
       " [49, 'bbbdc'],\n",
       " [50, 'bbdcb'],\n",
       " [94, 'cbecf'],\n",
       " [100, 'bbbbe'],\n",
       " [101, 'bbbeb'],\n",
       " [111, 'cdcee'],\n",
       " [137, 'eebeb'],\n",
       " [167, 'fbdee'],\n",
       " [168, 'bdeeb'],\n",
       " [171, 'ebeeb'],\n",
       " [177, 'bbfeb'],\n",
       " [185, 'ecbec'],\n",
       " [217, 'cdbfc'],\n",
       " [252, 'beebb'],\n",
       " [256, 'bbebb'],\n",
       " [262, 'bebee'],\n",
       " [264, 'beebe']]"
      ]
     },
     "execution_count": 29,
     "metadata": {},
     "output_type": "execute_result"
    }
   ],
   "source": [
    "kmer5p66cd47intersection = df.iloc[0]['query_intersection_positions']\n",
    "kmer5p66cd47intersection"
   ]
  },
  {
   "cell_type": "code",
   "execution_count": 30,
   "id": "e92851b3",
   "metadata": {},
   "outputs": [
    {
     "data": {
      "text/plain": [
       "[[10, 'cdcee'],\n",
       " [24, 'cdbfc'],\n",
       " [33, 'cebbb'],\n",
       " [34, 'ebbbb'],\n",
       " [43, 'bbbbe'],\n",
       " [49, 'bbcbb'],\n",
       " [58, 'bbbbd'],\n",
       " [59, 'bbbdc'],\n",
       " [60, 'bbdcb'],\n",
       " [82, 'bbbeb'],\n",
       " [83, 'bbebb'],\n",
       " [115, 'bbced'],\n",
       " [139, 'cbecf'],\n",
       " [143, 'fbdee'],\n",
       " [144, 'bdeeb'],\n",
       " [158, 'ecbec'],\n",
       " [213, 'febed'],\n",
       " [214, 'ebedb'],\n",
       " [218, 'beebe'],\n",
       " [219, 'eebeb'],\n",
       " [221, 'bebee'],\n",
       " [222, 'ebeeb'],\n",
       " [223, 'beebb'],\n",
       " [232, 'bbfeb']]"
      ]
     },
     "execution_count": 30,
     "metadata": {},
     "output_type": "execute_result"
    }
   ],
   "source": [
    "kmer5p66cd47match = df.iloc[0]['match_intersection_positions']\n",
    "kmer5p66cd47match"
   ]
  },
  {
   "cell_type": "code",
   "execution_count": 31,
   "id": "d3a8ae25",
   "metadata": {},
   "outputs": [
    {
     "data": {
      "text/plain": [
       "[[27, 'febedb'],\n",
       " [46, 'cebbbb'],\n",
       " [48, 'bbbbdc'],\n",
       " [49, 'bbbdcb'],\n",
       " [100, 'bbbbeb'],\n",
       " [167, 'fbdeeb'],\n",
       " [255, 'bbbebb'],\n",
       " [262, 'bebeeb']]"
      ]
     },
     "execution_count": 31,
     "metadata": {},
     "output_type": "execute_result"
    }
   ],
   "source": [
    "kmer6p66cd47intersection = df.iloc[1]['query_intersection_positions']\n",
    "kmer6p66cd47intersection"
   ]
  },
  {
   "cell_type": "code",
   "execution_count": 32,
   "id": "d1bb1a11",
   "metadata": {},
   "outputs": [
    {
     "data": {
      "text/plain": [
       "[[33, 'cebbbb'],\n",
       " [58, 'bbbbdc'],\n",
       " [59, 'bbbdcb'],\n",
       " [81, 'bbbbeb'],\n",
       " [82, 'bbbebb'],\n",
       " [143, 'fbdeeb'],\n",
       " [213, 'febedb'],\n",
       " [221, 'bebeeb']]"
      ]
     },
     "execution_count": 32,
     "metadata": {},
     "output_type": "execute_result"
    }
   ],
   "source": [
    "kmer6p66cd47match = df.iloc[1]['match_intersection_positions']\n",
    "kmer6p66cd47match"
   ]
  },
  {
   "cell_type": "markdown",
   "id": "4f26d57c-29bc-4c04-8dd8-48fab6bf5fb3",
   "metadata": {
    "execution": {
     "iopub.execute_input": "2024-11-11T18:37:59.846385Z",
     "iopub.status.busy": "2024-11-11T18:37:59.846101Z",
     "iopub.status.idle": "2024-11-11T18:37:59.849548Z",
     "shell.execute_reply": "2024-11-11T18:37:59.849227Z",
     "shell.execute_reply.started": "2024-11-11T18:37:59.846369Z"
    }
   },
   "source": [
    "\n",
    "### Q: Where does P66 bind CD47? A: 181-187aa\n",
    "\n",
    "> Utilizing a p66-deficient B. burgdorferi strain of B31-A3 (Δp66) we determined that P66 is required for CV1-G4 surface binding (Figure 2A). We next sought to determine residues on P66 critical for SIRPɑ interaction. We have previously demonstrated that two aspartic acid residues, D184 and D186, on a predicted extracellular loop of P66 (181–187) are required for integrin binding19. B. burgdorferi expressing the mutant D184A and D186A, p66D184A,D186A, or loss of the loop, p66Δ181−187, demonstrated loss of CV1-G4 binding (Figure 2A). Consistent to previous structure predictions, these sites map to an unstructured extracellular loop on a structure of P66 generated by Alphafold2 (Figure 2B and Extended Data 2A). We postulate this region is also required for SIRPɑ binding. Importantly, while these residues are critical for binding integrins and P66, loss of this loop or mutation of the two aspartic acid residues does not affect P66 cell surface localization19.\n"
   ]
  },
  {
   "cell_type": "code",
   "execution_count": 33,
   "id": "b4a2745a-b8e5-4d42-9df3-261775255ad6",
   "metadata": {
    "execution": {
     "iopub.execute_input": "2024-11-12T21:31:34.921046Z",
     "iopub.status.busy": "2024-11-12T21:31:34.920724Z",
     "iopub.status.idle": "2024-11-12T21:31:34.924464Z",
     "shell.execute_reply": "2024-11-12T21:31:34.924221Z",
     "shell.execute_reply.started": "2024-11-12T21:31:34.921033Z"
    }
   },
   "outputs": [
    {
     "data": {
      "text/plain": [
       "[True, True, False, False, False, False]"
      ]
     },
     "execution_count": 33,
     "metadata": {},
     "output_type": "execute_result"
    }
   ],
   "source": [
    "p66_binding_positions = set(range(181, 188))\n",
    "\n",
    "overlapping_p66_cd47_mimickry = [\n",
    "    True if any(i in p66_binding_positions for i, kmer in positions) else False\n",
    "    for positions in p66_cd47_df.match_intersection_positions\n",
    "]\n",
    "overlapping_p66_cd47_mimickry"
   ]
  },
  {
   "cell_type": "code",
   "execution_count": 34,
   "id": "8aa13116-0402-4764-803e-76119148babc",
   "metadata": {
    "execution": {
     "iopub.execute_input": "2024-11-12T21:31:35.503641Z",
     "iopub.status.busy": "2024-11-12T21:31:35.503391Z",
     "iopub.status.idle": "2024-11-12T21:31:35.539428Z",
     "shell.execute_reply": "2024-11-12T21:31:35.539170Z",
     "shell.execute_reply.started": "2024-11-12T21:31:35.503628Z"
    }
   },
   "outputs": [
    {
     "data": {
      "text/html": [
       "<div>\n",
       "<style scoped>\n",
       "    .dataframe tbody tr th:only-of-type {\n",
       "        vertical-align: middle;\n",
       "    }\n",
       "\n",
       "    .dataframe tbody tr th {\n",
       "        vertical-align: top;\n",
       "    }\n",
       "\n",
       "    .dataframe thead th {\n",
       "        text-align: right;\n",
       "    }\n",
       "</style>\n",
       "<table border=\"1\" class=\"dataframe\">\n",
       "  <thead>\n",
       "    <tr style=\"text-align: right;\">\n",
       "      <th></th>\n",
       "      <th>query</th>\n",
       "      <th>match</th>\n",
       "      <th>moltype</th>\n",
       "      <th>ksize</th>\n",
       "      <th>jaccard</th>\n",
       "      <th>query_n_kmers</th>\n",
       "      <th>query_n_unique_kmers</th>\n",
       "      <th>query_intersection_positions</th>\n",
       "      <th>match_n_kmers</th>\n",
       "      <th>match_n_unique_kmers</th>\n",
       "      <th>match_intersection_positions</th>\n",
       "    </tr>\n",
       "  </thead>\n",
       "  <tbody>\n",
       "    <tr>\n",
       "      <th>0</th>\n",
       "      <td>CD47</td>\n",
       "      <td>p66</td>\n",
       "      <td>dayhoff</td>\n",
       "      <td>5</td>\n",
       "      <td>0.098266</td>\n",
       "      <td>319</td>\n",
       "      <td>269</td>\n",
       "      <td>[[2, beebb], [8, eebbb], [15, bbbce], [26, bec...</td>\n",
       "      <td>614</td>\n",
       "      <td>491</td>\n",
       "      <td>[[9, eefeb], [10, efebb], [12, ebbbb], [14, bb...</td>\n",
       "    </tr>\n",
       "    <tr>\n",
       "      <th>1</th>\n",
       "      <td>CD47</td>\n",
       "      <td>p66</td>\n",
       "      <td>dayhoff</td>\n",
       "      <td>6</td>\n",
       "      <td>0.026838</td>\n",
       "      <td>318</td>\n",
       "      <td>294</td>\n",
       "      <td>[[46, cbccbb], [74, bbebbc], [76, ebbcfb], [83...</td>\n",
       "      <td>613</td>\n",
       "      <td>586</td>\n",
       "      <td>[[9, eefebb], [75, bcebdc], [105, decebc], [10...</td>\n",
       "    </tr>\n",
       "  </tbody>\n",
       "</table>\n",
       "</div>"
      ],
      "text/plain": [
       "  query match  moltype  ksize   jaccard  query_n_kmers  query_n_unique_kmers  \\\n",
       "0  CD47   p66  dayhoff      5  0.098266            319                   269   \n",
       "1  CD47   p66  dayhoff      6  0.026838            318                   294   \n",
       "\n",
       "                        query_intersection_positions  match_n_kmers  \\\n",
       "0  [[2, beebb], [8, eebbb], [15, bbbce], [26, bec...            614   \n",
       "1  [[46, cbccbb], [74, bbebbc], [76, ebbcfb], [83...            613   \n",
       "\n",
       "   match_n_unique_kmers                       match_intersection_positions  \n",
       "0                   491  [[9, eefeb], [10, efebb], [12, ebbbb], [14, bb...  \n",
       "1                   586  [[9, eefebb], [75, bcebdc], [105, decebc], [10...  "
      ]
     },
     "execution_count": 34,
     "metadata": {},
     "output_type": "execute_result"
    }
   ],
   "source": [
    "p66_cd47_df.loc[overlapping_p66_cd47_mimickry]"
   ]
  },
  {
   "cell_type": "markdown",
   "id": "63e5771c-e1f5-452a-8417-1ba9cc8164d6",
   "metadata": {},
   "source": [
    "### Make Sourmash signatures for P66, CD47"
   ]
  },
  {
   "cell_type": "markdown",
   "id": "762ae606-f888-4a85-97a6-0b45e61634e1",
   "metadata": {},
   "source": [
    "#### CD47"
   ]
  },
  {
   "cell_type": "code",
   "execution_count": 35,
   "id": "dd8f56ea-bf46-42b5-a4ce-58916b1212f3",
   "metadata": {
    "execution": {
     "iopub.execute_input": "2024-11-12T21:31:36.388801Z",
     "iopub.status.busy": "2024-11-12T21:31:36.388484Z",
     "iopub.status.idle": "2024-11-12T21:31:36.391508Z",
     "shell.execute_reply": "2024-11-12T21:31:36.391259Z",
     "shell.execute_reply.started": "2024-11-12T21:31:36.388788Z"
    }
   },
   "outputs": [
    {
     "name": "stdout",
     "output_type": "stream",
     "text": [
      "Overwriting test-data/cd47.fasta\n"
     ]
    }
   ],
   "source": [
    "%%file test-data/cd47.fasta\n",
    ">CD47_HUMAN\n",
    "MWPLVAALLLGSACCGSAQLLFNKTKSVEFTFCNDTVVIPCFVTNMEAQNTTEVYVKWKFKGRDIYTFDGALNKSTVPTDFSSAKIEVSQLLKGDASLKMDKSDAVSHTGNYTCEVTELTREGETIIELKYRVVSWFSPNENILIVIFPIFAILLFWGQFGIKTLKYRSGGMDEKTIALLVAGLVITVIVIVGAILFVPGEYSLKNATGLGLIVTSTGILILLHYYVFSTAIGLTSFVIAILVIQVIAYILAVVGLSLCIAACIPMHGPLLISGLSILALAQLLGLVYMKFVASNQKTIQPPRKAVEEPLNAFKESKGMMNDE"
   ]
  },
  {
   "cell_type": "markdown",
   "id": "655714be-f3f0-40ac-8641-96eae10c6e2e",
   "metadata": {},
   "source": [
    "#### P66"
   ]
  },
  {
   "cell_type": "code",
   "execution_count": 36,
   "id": "1aaff219-c98e-4c5d-b057-534703f64485",
   "metadata": {
    "execution": {
     "iopub.execute_input": "2024-11-12T21:31:37.163245Z",
     "iopub.status.busy": "2024-11-12T21:31:37.162832Z",
     "iopub.status.idle": "2024-11-12T21:31:37.165660Z",
     "shell.execute_reply": "2024-11-12T21:31:37.165403Z",
     "shell.execute_reply.started": "2024-11-12T21:31:37.163232Z"
    }
   },
   "outputs": [
    {
     "name": "stdout",
     "output_type": "stream",
     "text": [
      "Overwriting test-data/p66.fasta\n"
     ]
    }
   ],
   "source": [
    "%%file test-data/p66.fasta\n",
    ">P66_H7C7N8_BORBU\n",
    "MKSHILYKLIIFLTTSAAIFAADALKEKDIFKINPWMPTFGFENTSEFRLDMDELVPGFENKSKITIKLKPFEANPELGKDDPFSAYIKVEDLALKAEGKKGDQFKIDVGDITAQINMYDFFIKISTMTDFDFNKESLFSFAPMTGFKSTYYGFPSNDRAVRGTILARGTSKNIGTIQLGYKLPKLDLTFAIGGTGTGNRNQENDKDTPYNKTYQGILYGIQATWKPIKNLLDQNEDTKSVIAETPFELNFGLSGAYGNETFNNSSITYSLKDKSVVGNDLLSPTLSNSAILASFGAKYKLGLTKINDKNTYLILQMGTDFGIDPFASDFSIFGHISKAANFKKETPSDPNKKAEIFDPNGNALNFSKNTELGIAFSTGASIGFAWNKDTGEKESWAIKGSDSYSTRLFGEQDKKSGVALGISYGQNLYRSKDTEKRLKTISENAFQSLNVEISSYEDNKKGIINGLGWITSIGLYDILRQKSVENYPTTISSTTENNQTEQSSTSTKTTTPNLTFEDAMKLGLALYLDYAIPIASISTEAYVVPYIGAYILGPSNKLSSDATKIYLKTGLSLEKLIRFTTISLGWDSNNIIELANKNTNNAAIGSAFLQFKIAYSGS"
   ]
  },
  {
   "cell_type": "markdown",
   "id": "c2986b10-c40f-407d-ba7e-c221db770da2",
   "metadata": {},
   "source": [
    "### Compute signatures"
   ]
  },
  {
   "cell_type": "markdown",
   "id": "b150efd8",
   "metadata": {},
   "source": [
    "# This value was dropped from ksizes = 8, 9 in the hp dataset"
   ]
  },
  {
   "cell_type": "code",
   "execution_count": 37,
   "id": "ca31427f-04bd-4304-b3a4-b9f28e976760",
   "metadata": {
    "execution": {
     "iopub.execute_input": "2024-11-12T21:35:43.660315Z",
     "iopub.status.busy": "2024-11-12T21:35:43.659921Z",
     "iopub.status.idle": "2024-11-12T21:35:45.842797Z",
     "shell.execute_reply": "2024-11-12T21:35:45.842366Z",
     "shell.execute_reply.started": "2024-11-12T21:35:43.660302Z"
    }
   },
   "outputs": [
    {
     "name": "stderr",
     "output_type": "stream",
     "text": [
      "\n",
      "\u001b[K\n",
      "== This is sourmash version 4.8.12. ==\n",
      "\n",
      "\u001b[K== Please cite Irber et. al (2024), doi:10.21105/joss.06830. ==\n",
      "\n",
      "\n",
      "\u001b[KWARNING: scaled value should be >= 100. Continuing anyway.\n",
      "\n",
      "\u001b[Kcomputing signatures for files: test-data/p66.fasta\n",
      "\n",
      "\u001b[KComputing a total of 1 signature(s) for each input.\n",
      "\n",
      "\u001b[K... reading sequences from test-data/p66.fasta\n",
      "\n",
      "\u001b[K... test-data/p66.fasta 1 sequences\n",
      "\n",
      "\u001b[Kcalculated 1 signature for 1 sequences taken from 1 files\n",
      "\n",
      "\u001b[Ksaved 1 signature(s) to 'test-data/p66.dayhoff.k3.sig'\n",
      "\n",
      "\u001b[K\n",
      "== This is sourmash version 4.8.12. ==\n",
      "\n",
      "\u001b[K== Please cite Irber et. al (2024), doi:10.21105/joss.06830. ==\n",
      "\n",
      "\n",
      "\u001b[KWARNING: scaled value should be >= 100. Continuing anyway.\n",
      "\n",
      "\u001b[Kcomputing signatures for files: test-data/cd47.fasta\n",
      "\n",
      "\u001b[KComputing a total of 1 signature(s) for each input.\n",
      "\n",
      "\u001b[K... reading sequences from test-data/cd47.fasta\n",
      "\n",
      "\u001b[K... test-data/cd47.fasta 1 sequences\n",
      "\n",
      "\u001b[Kcalculated 1 signature for 1 sequences taken from 1 files\n",
      "\n",
      "\u001b[Ksaved 1 signature(s) to 'test-data/cd47.dayhoff.k3.sig'\n",
      "\n",
      "\u001b[K\n",
      "== This is sourmash version 4.8.12. ==\n",
      "\n",
      "\u001b[K== Please cite Irber et. al (2024), doi:10.21105/joss.06830. ==\n",
      "\n",
      "\n",
      "\u001b[KWARNING: scaled value should be >= 100. Continuing anyway.\n",
      "\n",
      "\u001b[Kcomputing signatures for files: test-data/p66.fasta\n",
      "\n",
      "\u001b[KComputing a total of 1 signature(s) for each input.\n",
      "\n",
      "\u001b[K... reading sequences from test-data/p66.fasta\n",
      "\n",
      "\u001b[K... test-data/p66.fasta 1 sequences\n",
      "\n",
      "\u001b[Kcalculated 1 signature for 1 sequences taken from 1 files\n",
      "\n",
      "\u001b[Ksaved 1 signature(s) to 'test-data/p66.dayhoff.k4.sig'\n",
      "\n",
      "\u001b[K\n",
      "== This is sourmash version 4.8.12. ==\n",
      "\n",
      "\u001b[K== Please cite Irber et. al (2024), doi:10.21105/joss.06830. ==\n",
      "\n",
      "\n",
      "\u001b[KWARNING: scaled value should be >= 100. Continuing anyway.\n",
      "\n",
      "\u001b[Kcomputing signatures for files: test-data/cd47.fasta\n",
      "\n",
      "\u001b[KComputing a total of 1 signature(s) for each input.\n",
      "\n",
      "\u001b[K... reading sequences from test-data/cd47.fasta\n",
      "\n",
      "\u001b[K... test-data/cd47.fasta 1 sequences\n",
      "\n",
      "\u001b[Kcalculated 1 signature for 1 sequences taken from 1 files\n",
      "\n",
      "\u001b[Ksaved 1 signature(s) to 'test-data/cd47.dayhoff.k4.sig'\n"
     ]
    }
   ],
   "source": [
    "ksizes = 3, 4\n",
    "p66_cd47_fastas = {\"p66\": \"test-data/p66.fasta\", \"cd47\": \"test-data/cd47.fasta\"}\n",
    "p66_cd47_sigfiles = {}\n",
    "\n",
    "\n",
    "for ksize in ksizes:\n",
    "    for name, fasta in p66_cd47_fastas.items():\n",
    "        param_string = f\"dayhoff,scaled=1,k={ksize}\"\n",
    "        sig = f\"test-data/{name}.dayhoff.k{ksize}.sig\"\n",
    "        ! sourmash sketch protein -p $param_string --name $name $fasta -o $sig\n",
    "        p66_cd47_sigfiles[(name, ksize)] = sig"
   ]
  },
  {
   "cell_type": "markdown",
   "id": "6274314c-56e2-4041-86ea-8d252f50e35e",
   "metadata": {},
   "source": [
    "### Load Signatures"
   ]
  },
  {
   "cell_type": "markdown",
   "id": "510e0d98",
   "metadata": {},
   "source": [
    "# This value was dropped from ksizes = 8, 9 in the hp dataset"
   ]
  },
  {
   "cell_type": "code",
   "execution_count": 38,
   "id": "90f21140-c447-4880-8aa8-7ef2cbc8f917",
   "metadata": {
    "execution": {
     "iopub.execute_input": "2024-11-12T21:35:47.715555Z",
     "iopub.status.busy": "2024-11-12T21:35:47.715175Z",
     "iopub.status.idle": "2024-11-12T21:35:47.721686Z",
     "shell.execute_reply": "2024-11-12T21:35:47.721466Z",
     "shell.execute_reply.started": "2024-11-12T21:35:47.715538Z"
    }
   },
   "outputs": [
    {
     "data": {
      "text/plain": [
       "{3: {'p66': SourmashSignature('p66', 06f1c759),\n",
       "  'cd47': SourmashSignature('cd47', bafcd8ea)},\n",
       " 4: {'p66': SourmashSignature('p66', 06f1c759),\n",
       "  'cd47': SourmashSignature('cd47', bafcd8ea)}}"
      ]
     },
     "execution_count": 38,
     "metadata": {},
     "output_type": "execute_result"
    }
   ],
   "source": [
    "ksizes = 3, 4\n",
    "p66_cd47_sigs = dict.fromkeys(ksizes, {})\n",
    "\n",
    "for (name, ksize), sigfile in p66_cd47_sigfiles.items():\n",
    "    p66_cd47_sigs[ksize][name] = list(sourmash.load_file_as_signatures(sigfile))[0]\n",
    "p66_cd47_sigs"
   ]
  },
  {
   "cell_type": "markdown",
   "id": "a46a7223-9c07-4d04-96cd-946e263c2cfb",
   "metadata": {},
   "source": [
    "### SHow SigSeq Alignment"
   ]
  },
  {
   "cell_type": "code",
   "execution_count": 39,
   "id": "15a5a246-9fe3-4db8-afd1-1bd140c62918",
   "metadata": {
    "execution": {
     "iopub.execute_input": "2024-11-12T21:56:40.338811Z",
     "iopub.status.busy": "2024-11-12T21:56:40.338426Z",
     "iopub.status.idle": "2024-11-12T21:56:40.355520Z",
     "shell.execute_reply": "2024-11-12T21:56:40.355182Z",
     "shell.execute_reply.started": "2024-11-12T21:56:40.338798Z"
    }
   },
   "outputs": [
    {
     "name": "stdout",
     "output_type": "stream",
     "text": [
      "ksize: 3\n",
      "Non-sequential indices -- Previous: 0, current: 2\n",
      "ksize: 4\n",
      "Non-sequential indices -- Previous: 0, current: 2\n"
     ]
    }
   ],
   "source": [
    "from sigseq import SigSeq\n",
    "\n",
    "for ksize, sigs in p66_cd47_sigs.items():\n",
    "    print(f\"ksize: {ksize}\")\n",
    "\n",
    "    p66_sigseq = SigSeq(sigs[\"p66\"], H7C7N8_BORBU)\n",
    "    cd47_sigseq = SigSeq(sigs[\"cd47\"], CD47_HUMAN)\n",
    "\n",
    "    try:\n",
    "        p66_sigseq.display_alignment(cd47_sigseq)\n",
    "    except ValueError as e:\n",
    "        print(e)\n",
    "        continue"
   ]
  },
  {
   "cell_type": "code",
   "execution_count": 40,
   "id": "00497e2e",
   "metadata": {},
   "outputs": [
    {
     "data": {
      "text/html": [
       "<div>\n",
       "<style scoped>\n",
       "    .dataframe tbody tr th:only-of-type {\n",
       "        vertical-align: middle;\n",
       "    }\n",
       "\n",
       "    .dataframe tbody tr th {\n",
       "        vertical-align: top;\n",
       "    }\n",
       "\n",
       "    .dataframe thead th {\n",
       "        text-align: right;\n",
       "    }\n",
       "</style>\n",
       "<table border=\"1\" class=\"dataframe\">\n",
       "  <thead>\n",
       "    <tr style=\"text-align: right;\">\n",
       "      <th></th>\n",
       "      <th>p66 Index</th>\n",
       "      <th>dayhoff</th>\n",
       "      <th>p66 protein sequence</th>\n",
       "      <th>hashval</th>\n",
       "      <th>cd47 Index</th>\n",
       "      <th>cd47 protein sequence</th>\n",
       "    </tr>\n",
       "  </thead>\n",
       "  <tbody>\n",
       "    <tr>\n",
       "      <th>0</th>\n",
       "      <td>6</td>\n",
       "      <td>fdee</td>\n",
       "      <td>YKLI</td>\n",
       "      <td>10068566436590771491</td>\n",
       "      <td>130</td>\n",
       "      <td>YRVV</td>\n",
       "    </tr>\n",
       "    <tr>\n",
       "      <th>1</th>\n",
       "      <td>8</td>\n",
       "      <td>eeef</td>\n",
       "      <td>LIIF</td>\n",
       "      <td>224116582751336810</td>\n",
       "      <td>144</td>\n",
       "      <td>IVIF</td>\n",
       "    </tr>\n",
       "    <tr>\n",
       "      <th>2</th>\n",
       "      <td>8</td>\n",
       "      <td>eeef</td>\n",
       "      <td>LIIF</td>\n",
       "      <td>224116582751336810</td>\n",
       "      <td>152</td>\n",
       "      <td>ILLF</td>\n",
       "    </tr>\n",
       "    <tr>\n",
       "      <th>3</th>\n",
       "      <td>9</td>\n",
       "      <td>eefe</td>\n",
       "      <td>IIFL</td>\n",
       "      <td>7860449462917742889</td>\n",
       "      <td>194</td>\n",
       "      <td>ILFV</td>\n",
       "    </tr>\n",
       "    <tr>\n",
       "      <th>4</th>\n",
       "      <td>9</td>\n",
       "      <td>eefe</td>\n",
       "      <td>IIFL</td>\n",
       "      <td>7860449462917742889</td>\n",
       "      <td>285</td>\n",
       "      <td>LVYM</td>\n",
       "    </tr>\n",
       "    <tr>\n",
       "      <th>...</th>\n",
       "      <td>...</td>\n",
       "      <td>...</td>\n",
       "      <td>...</td>\n",
       "      <td>...</td>\n",
       "      <td>...</td>\n",
       "      <td>...</td>\n",
       "    </tr>\n",
       "    <tr>\n",
       "      <th>529</th>\n",
       "      <td>603</td>\n",
       "      <td>ebbb</td>\n",
       "      <td>IGSA</td>\n",
       "      <td>6489788892270137876</td>\n",
       "      <td>9</td>\n",
       "      <td>LGSA</td>\n",
       "    </tr>\n",
       "    <tr>\n",
       "      <th>530</th>\n",
       "      <td>603</td>\n",
       "      <td>ebbb</td>\n",
       "      <td>IGSA</td>\n",
       "      <td>6489788892270137876</td>\n",
       "      <td>213</td>\n",
       "      <td>VTST</td>\n",
       "    </tr>\n",
       "    <tr>\n",
       "      <th>531</th>\n",
       "      <td>605</td>\n",
       "      <td>bbfe</td>\n",
       "      <td>SAFL</td>\n",
       "      <td>6002404200797057331</td>\n",
       "      <td>234</td>\n",
       "      <td>TSFV</td>\n",
       "    </tr>\n",
       "    <tr>\n",
       "      <th>532</th>\n",
       "      <td>614</td>\n",
       "      <td>fbbb</td>\n",
       "      <td>YSGS</td>\n",
       "      <td>12785923314063975223</td>\n",
       "      <td>80</td>\n",
       "      <td>FSSA</td>\n",
       "    </tr>\n",
       "    <tr>\n",
       "      <th>533</th>\n",
       "      <td>614</td>\n",
       "      <td>fbbb</td>\n",
       "      <td>YSGS</td>\n",
       "      <td>12785923314063975223</td>\n",
       "      <td>227</td>\n",
       "      <td>FSTA</td>\n",
       "    </tr>\n",
       "  </tbody>\n",
       "</table>\n",
       "<p>534 rows × 6 columns</p>\n",
       "</div>"
      ],
      "text/plain": [
       "     p66 Index dayhoff p66 protein sequence               hashval  cd47 Index  \\\n",
       "0            6    fdee                 YKLI  10068566436590771491         130   \n",
       "1            8    eeef                 LIIF    224116582751336810         144   \n",
       "2            8    eeef                 LIIF    224116582751336810         152   \n",
       "3            9    eefe                 IIFL   7860449462917742889         194   \n",
       "4            9    eefe                 IIFL   7860449462917742889         285   \n",
       "..         ...     ...                  ...                   ...         ...   \n",
       "529        603    ebbb                 IGSA   6489788892270137876           9   \n",
       "530        603    ebbb                 IGSA   6489788892270137876         213   \n",
       "531        605    bbfe                 SAFL   6002404200797057331         234   \n",
       "532        614    fbbb                 YSGS  12785923314063975223          80   \n",
       "533        614    fbbb                 YSGS  12785923314063975223         227   \n",
       "\n",
       "    cd47 protein sequence  \n",
       "0                    YRVV  \n",
       "1                    IVIF  \n",
       "2                    ILLF  \n",
       "3                    ILFV  \n",
       "4                    LVYM  \n",
       "..                    ...  \n",
       "529                  LGSA  \n",
       "530                  VTST  \n",
       "531                  TSFV  \n",
       "532                  FSSA  \n",
       "533                  FSTA  \n",
       "\n",
       "[534 rows x 6 columns]"
      ]
     },
     "execution_count": 40,
     "metadata": {},
     "output_type": "execute_result"
    }
   ],
   "source": [
    "p66_overlap = cd47_sigseq.get_overlapping_kmers(p66_sigseq)\n",
    "cd47_overlap = p66_sigseq.get_overlapping_kmers(cd47_sigseq)\n",
    "\n",
    "\n",
    "columnp66 = ['p66 Index', 'dayhoff', 'p66 protein sequence', 'hashval']\n",
    "columncd47 = ['cd47 Index', 'dayhoff', 'cd47 protein sequence', 'hashval2']\n",
    "\n",
    "Sequencep66 = pd.DataFrame(p66_overlap, columns=columnp66)\n",
    "sequencecd47 = pd.DataFrame(cd47_overlap,columns=columncd47).drop(columns=['hashval2'])\n",
    "\n",
    "\n",
    "Overlap = Sequencep66.merge(sequencecd47, on='dayhoff', how='left')\n",
    "Overlap"
   ]
  },
  {
   "cell_type": "code",
   "execution_count": 41,
   "id": "32b99e31-5344-4529-acb6-8d8f1392db95",
   "metadata": {
    "execution": {
     "iopub.execute_input": "2024-11-12T21:44:13.803198Z",
     "iopub.status.busy": "2024-11-12T21:44:13.802750Z",
     "iopub.status.idle": "2024-11-12T21:44:13.805865Z",
     "shell.execute_reply": "2024-11-12T21:44:13.805585Z",
     "shell.execute_reply.started": "2024-11-12T21:44:13.803185Z"
    }
   },
   "outputs": [
    {
     "data": {
      "text/plain": [
       "'edbdeefdeeefebbbbbefbbcbedcdcefdecbfebbfbfccbbcfdececceebbfccdbdebededbfcbcbcebdccbfbbfedeccebedbcbddbccfdecebcebbcecefcffedebbebcfcfcdcbefbfbbebbfdbbffbfbbccdbedbbeebdbbbdcebbecebfdebdecebfbebbbbbbcdcccccdcbbfcdbfcbeefbecbbfdbedceecccccbdbeebcbbfcecfbebbbfbccbfccbbebfbedcdbeebcceebbbebcbbeebbfbbdfdebebdeccdcbfeeecebbcfbecbfbbcfbefbdebdbbcfddcbbbcbcddbcefcbcbcbecfbdcbcebebfbbbbbebfbfcdcbbcdcbfbedbbcbfbbdefbcccddbbebebebfbccefdbdcbcddedbebccbfcbececebbfcccddbeecbebfebbebefceedcdbeccfbbbebbbbccccbccbbbbbdbbbbcebfccbedebebefecfbebebbebbcbfeebfebbfeebbbcdebbcbbdefedbbebecdeedfbbebebfcbcceecebcdcbccbbebbbfecfdebfbbb'"
      ]
     },
     "execution_count": 41,
     "metadata": {},
     "output_type": "execute_result"
    }
   ],
   "source": [
    "p66_sigseq.seq_encoded"
   ]
  },
  {
   "cell_type": "code",
   "execution_count": 42,
   "id": "69305af8-39ea-49b1-a307-b49e8d8d31a7",
   "metadata": {
    "execution": {
     "iopub.execute_input": "2024-11-12T21:49:30.134639Z",
     "iopub.status.busy": "2024-11-12T21:49:30.134314Z",
     "iopub.status.idle": "2024-11-12T21:49:30.137414Z",
     "shell.execute_reply": "2024-11-12T21:49:30.137124Z",
     "shell.execute_reply.started": "2024-11-12T21:49:30.134625Z"
    }
   },
   "outputs": [
    {
     "data": {
      "text/plain": [
       "'MKSHILYKLIIFLTTSAAIFAADALKEKDIFKINPWMPTFGFENTSEFRLDMDELVPGFENKSKITIKLKPFEANPELGKDDPFSAYIKVEDLALKAEGKKGDQFKIDVGDITAQINMYDFFIKISTMTDFDFNKESLFSFAPMTGFKSTYYGFPSNDRAVRGTILARGTSKNIGTIQLGYKLPKLDLTFAIGGTGTGNRNQENDKDTPYNKTYQGILYGIQATWKPIKNLLDQNEDTKSVIAETPFELNFGLSGAYGNETFNNSSITYSLKDKSVVGNDLLSPTLSNSAILASFGAKYKLGLTKINDKNTYLILQMGTDFGIDPFASDFSIFGHISKAANFKKETPSDPNKKAEIFDPNGNALNFSKNTELGIAFSTGASIGFAWNKDTGEKESWAIKGSDSYSTRLFGEQDKKSGVALGISYGQNLYRSKDTEKRLKTISENAFQSLNVEISSYEDNKKGIINGLGWITSIGLYDILRQKSVENYPTTISSTTENNQTEQSSTSTKTTTPNLTFEDAMKLGLALYLDYAIPIASISTEAYVVPYIGAYILGPSNKLSSDATKIYLKTGLSLEKLIRFTTISLGWDSNNIIELANKNTNNAAIGSAFLQFKIAYSGS'"
      ]
     },
     "execution_count": 42,
     "metadata": {},
     "output_type": "execute_result"
    }
   ],
   "source": [
    "p66_sigseq.seq"
   ]
  },
  {
   "cell_type": "code",
   "execution_count": 43,
   "id": "645c4216-7ee5-4962-b06c-b37766854596",
   "metadata": {
    "execution": {
     "iopub.execute_input": "2024-11-12T21:47:28.023690Z",
     "iopub.status.busy": "2024-11-12T21:47:28.023361Z",
     "iopub.status.idle": "2024-11-12T21:47:28.026602Z",
     "shell.execute_reply": "2024-11-12T21:47:28.026319Z",
     "shell.execute_reply.started": "2024-11-12T21:47:28.023677Z"
    }
   },
   "outputs": [
    {
     "data": {
      "text/plain": [
       "4"
      ]
     },
     "execution_count": 43,
     "metadata": {},
     "output_type": "execute_result"
    }
   ],
   "source": [
    "p66_sigseq.sig.minhash.ksize"
   ]
  },
  {
   "cell_type": "code",
   "execution_count": 44,
   "id": "63267a8a-09c4-4678-8e62-ab32e8e73d54",
   "metadata": {
    "execution": {
     "iopub.execute_input": "2024-11-12T21:47:29.130940Z",
     "iopub.status.busy": "2024-11-12T21:47:29.130609Z",
     "iopub.status.idle": "2024-11-12T21:47:29.133676Z",
     "shell.execute_reply": "2024-11-12T21:47:29.133391Z",
     "shell.execute_reply.started": "2024-11-12T21:47:29.130926Z"
    }
   },
   "outputs": [
    {
     "data": {
      "text/plain": [
       "'efbeebbeeebbbaabbbceefcdbdbecfbfaccbeeebafebcecbccbbcefedfdfdbdcefbfcbbecdbbebbcfbbbdecebceedbcbbedecdbcbebdbbcfbacebcebdcbcbeecedfdeebffbbccceeeeefbefbeeeffbcfbedbedfdbbbeccdbebeeebbeeebeeeeebbeefebbcfbedcbbbebeeebbbbeeeeedffefbbbebebbfeebeeeeceebfeebeebebeaebbaebedbbeeebbebeebebceebeefedfebbccdbecbbddbeccbecbfdcbdbeeccc'"
      ]
     },
     "execution_count": 44,
     "metadata": {},
     "output_type": "execute_result"
    }
   ],
   "source": [
    "cd47_sigseq.seq_encoded"
   ]
  },
  {
   "cell_type": "code",
   "execution_count": 45,
   "id": "6231db67-2862-45b2-b4eb-a29dbb6ad13e",
   "metadata": {
    "execution": {
     "iopub.execute_input": "2024-11-12T21:49:34.422710Z",
     "iopub.status.busy": "2024-11-12T21:49:34.422392Z",
     "iopub.status.idle": "2024-11-12T21:49:34.425372Z",
     "shell.execute_reply": "2024-11-12T21:49:34.425098Z",
     "shell.execute_reply.started": "2024-11-12T21:49:34.422696Z"
    }
   },
   "outputs": [
    {
     "data": {
      "text/plain": [
       "'MWPLVAALLLGSACCGSAQLLFNKTKSVEFTFCNDTVVIPCFVTNMEAQNTTEVYVKWKFKGRDIYTFDGALNKSTVPTDFSSAKIEVSQLLKGDASLKMDKSDAVSHTGNYTCEVTELTREGETIIELKYRVVSWFSPNENILIVIFPIFAILLFWGQFGIKTLKYRSGGMDEKTIALLVAGLVITVIVIVGAILFVPGEYSLKNATGLGLIVTSTGILILLHYYVFSTAIGLTSFVIAILVIQVIAYILAVVGLSLCIAACIPMHGPLLISGLSILALAQLLGLVYMKFVASNQKTIQPPRKAVEEPLNAFKESKGMMNDE'"
      ]
     },
     "execution_count": 45,
     "metadata": {},
     "output_type": "execute_result"
    }
   ],
   "source": [
    "cd47_sigseq.seq"
   ]
  },
  {
   "cell_type": "code",
   "execution_count": 46,
   "id": "9cc02e40-6770-4a2c-9305-1a5553982b03",
   "metadata": {
    "execution": {
     "iopub.execute_input": "2024-11-12T21:48:18.872968Z",
     "iopub.status.busy": "2024-11-12T21:48:18.872639Z",
     "iopub.status.idle": "2024-11-12T21:48:18.875221Z",
     "shell.execute_reply": "2024-11-12T21:48:18.874842Z",
     "shell.execute_reply.started": "2024-11-12T21:48:18.872954Z"
    }
   },
   "outputs": [],
   "source": [
    "columns = [\"i\", \"dayhoff\", \"protein\", \"hashval\"]"
   ]
  },
  {
   "cell_type": "code",
   "execution_count": 47,
   "id": "a59d434e-77b3-47c6-ab2a-0224dd0fbfb6",
   "metadata": {
    "execution": {
     "iopub.execute_input": "2024-11-12T21:48:19.021119Z",
     "iopub.status.busy": "2024-11-12T21:48:19.020791Z",
     "iopub.status.idle": "2024-11-12T21:48:19.042976Z",
     "shell.execute_reply": "2024-11-12T21:48:19.042669Z",
     "shell.execute_reply.started": "2024-11-12T21:48:19.021105Z"
    }
   },
   "outputs": [
    {
     "name": "stdout",
     "output_type": "stream",
     "text": [
      "(295, 4)\n"
     ]
    },
    {
     "data": {
      "text/html": [
       "<div>\n",
       "<style scoped>\n",
       "    .dataframe tbody tr th:only-of-type {\n",
       "        vertical-align: middle;\n",
       "    }\n",
       "\n",
       "    .dataframe tbody tr th {\n",
       "        vertical-align: top;\n",
       "    }\n",
       "\n",
       "    .dataframe thead th {\n",
       "        text-align: right;\n",
       "    }\n",
       "</style>\n",
       "<table border=\"1\" class=\"dataframe\">\n",
       "  <thead>\n",
       "    <tr style=\"text-align: right;\">\n",
       "      <th></th>\n",
       "      <th>i</th>\n",
       "      <th>dayhoff</th>\n",
       "      <th>protein</th>\n",
       "      <th>hashval</th>\n",
       "    </tr>\n",
       "  </thead>\n",
       "  <tbody>\n",
       "    <tr>\n",
       "      <th>0</th>\n",
       "      <td>6</td>\n",
       "      <td>fdee</td>\n",
       "      <td>YKLI</td>\n",
       "      <td>10068566436590771491</td>\n",
       "    </tr>\n",
       "    <tr>\n",
       "      <th>1</th>\n",
       "      <td>8</td>\n",
       "      <td>eeef</td>\n",
       "      <td>LIIF</td>\n",
       "      <td>224116582751336810</td>\n",
       "    </tr>\n",
       "    <tr>\n",
       "      <th>2</th>\n",
       "      <td>9</td>\n",
       "      <td>eefe</td>\n",
       "      <td>IIFL</td>\n",
       "      <td>7860449462917742889</td>\n",
       "    </tr>\n",
       "    <tr>\n",
       "      <th>3</th>\n",
       "      <td>10</td>\n",
       "      <td>efeb</td>\n",
       "      <td>IFLT</td>\n",
       "      <td>4466143379625637480</td>\n",
       "    </tr>\n",
       "    <tr>\n",
       "      <th>4</th>\n",
       "      <td>11</td>\n",
       "      <td>febb</td>\n",
       "      <td>FLTT</td>\n",
       "      <td>22856495822854259</td>\n",
       "    </tr>\n",
       "  </tbody>\n",
       "</table>\n",
       "</div>"
      ],
      "text/plain": [
       "    i dayhoff protein               hashval\n",
       "0   6    fdee    YKLI  10068566436590771491\n",
       "1   8    eeef    LIIF    224116582751336810\n",
       "2   9    eefe    IIFL   7860449462917742889\n",
       "3  10    efeb    IFLT   4466143379625637480\n",
       "4  11    febb    FLTT     22856495822854259"
      ]
     },
     "execution_count": 47,
     "metadata": {},
     "output_type": "execute_result"
    }
   ],
   "source": [
    "p66_in_cd47_overlap = pd.DataFrame(\n",
    "    cd47_sigseq.get_overlapping_kmers(p66_sigseq), columns=columns\n",
    ")\n",
    "print(p66_in_cd47_overlap.shape)\n",
    "p66_in_cd47_overlap.head()"
   ]
  },
  {
   "cell_type": "code",
   "execution_count": 48,
   "id": "491e094e-ddfa-40ea-bc95-8400bf59c122",
   "metadata": {
    "execution": {
     "iopub.execute_input": "2024-11-12T21:48:39.916599Z",
     "iopub.status.busy": "2024-11-12T21:48:39.916278Z",
     "iopub.status.idle": "2024-11-12T21:48:39.920665Z",
     "shell.execute_reply": "2024-11-12T21:48:39.920373Z",
     "shell.execute_reply.started": "2024-11-12T21:48:39.916585Z"
    }
   },
   "outputs": [
    {
     "data": {
      "text/plain": [
       "dayhoff\n",
       "bbeb    12\n",
       "bbbb    11\n",
       "ebeb     7\n",
       "bebb     7\n",
       "bebe     7\n",
       "        ..\n",
       "eccc     1\n",
       "cbdb     1\n",
       "bdbe     1\n",
       "dfde     1\n",
       "eedf     1\n",
       "Name: count, Length: 127, dtype: int64"
      ]
     },
     "execution_count": 48,
     "metadata": {},
     "output_type": "execute_result"
    }
   ],
   "source": [
    "p66_in_cd47_overlap.dayhoff.value_counts()"
   ]
  },
  {
   "cell_type": "code",
   "execution_count": 49,
   "id": "4fe2d889-119c-48ca-bd00-542f9138c833",
   "metadata": {
    "execution": {
     "iopub.execute_input": "2024-11-12T21:48:19.197833Z",
     "iopub.status.busy": "2024-11-12T21:48:19.197509Z",
     "iopub.status.idle": "2024-11-12T21:48:19.209901Z",
     "shell.execute_reply": "2024-11-12T21:48:19.209603Z",
     "shell.execute_reply.started": "2024-11-12T21:48:19.197819Z"
    }
   },
   "outputs": [
    {
     "name": "stdout",
     "output_type": "stream",
     "text": [
      "(199, 4)\n"
     ]
    },
    {
     "data": {
      "text/html": [
       "<div>\n",
       "<style scoped>\n",
       "    .dataframe tbody tr th:only-of-type {\n",
       "        vertical-align: middle;\n",
       "    }\n",
       "\n",
       "    .dataframe tbody tr th {\n",
       "        vertical-align: top;\n",
       "    }\n",
       "\n",
       "    .dataframe thead th {\n",
       "        text-align: right;\n",
       "    }\n",
       "</style>\n",
       "<table border=\"1\" class=\"dataframe\">\n",
       "  <thead>\n",
       "    <tr style=\"text-align: right;\">\n",
       "      <th></th>\n",
       "      <th>i</th>\n",
       "      <th>dayhoff</th>\n",
       "      <th>protein</th>\n",
       "      <th>hashval</th>\n",
       "    </tr>\n",
       "  </thead>\n",
       "  <tbody>\n",
       "    <tr>\n",
       "      <th>0</th>\n",
       "      <td>0</td>\n",
       "      <td>efbe</td>\n",
       "      <td>MWPL</td>\n",
       "      <td>6323445226374325209</td>\n",
       "    </tr>\n",
       "    <tr>\n",
       "      <th>1</th>\n",
       "      <td>2</td>\n",
       "      <td>beeb</td>\n",
       "      <td>PLVA</td>\n",
       "      <td>17475210263719431112</td>\n",
       "    </tr>\n",
       "    <tr>\n",
       "      <th>2</th>\n",
       "      <td>3</td>\n",
       "      <td>eebb</td>\n",
       "      <td>LVAA</td>\n",
       "      <td>11038159954814081015</td>\n",
       "    </tr>\n",
       "    <tr>\n",
       "      <th>3</th>\n",
       "      <td>4</td>\n",
       "      <td>ebbe</td>\n",
       "      <td>VAAL</td>\n",
       "      <td>6920393162873654046</td>\n",
       "    </tr>\n",
       "    <tr>\n",
       "      <th>4</th>\n",
       "      <td>5</td>\n",
       "      <td>bbee</td>\n",
       "      <td>AALL</td>\n",
       "      <td>15322539958464395896</td>\n",
       "    </tr>\n",
       "  </tbody>\n",
       "</table>\n",
       "</div>"
      ],
      "text/plain": [
       "   i dayhoff protein               hashval\n",
       "0  0    efbe    MWPL   6323445226374325209\n",
       "1  2    beeb    PLVA  17475210263719431112\n",
       "2  3    eebb    LVAA  11038159954814081015\n",
       "3  4    ebbe    VAAL   6920393162873654046\n",
       "4  5    bbee    AALL  15322539958464395896"
      ]
     },
     "execution_count": 49,
     "metadata": {},
     "output_type": "execute_result"
    }
   ],
   "source": [
    "cd47_in_p66_overlap = pd.DataFrame(\n",
    "    p66_sigseq.get_overlapping_kmers(cd47_sigseq), columns=columns\n",
    ")\n",
    "print(cd47_in_p66_overlap.shape)\n",
    "cd47_in_p66_overlap.head()"
   ]
  },
  {
   "cell_type": "code",
   "execution_count": 50,
   "id": "0b40f3d1-28b7-436f-882d-66d8312ac6d8",
   "metadata": {
    "execution": {
     "iopub.execute_input": "2024-11-12T21:48:33.116250Z",
     "iopub.status.busy": "2024-11-12T21:48:33.115922Z",
     "iopub.status.idle": "2024-11-12T21:48:33.120505Z",
     "shell.execute_reply": "2024-11-12T21:48:33.120208Z",
     "shell.execute_reply.started": "2024-11-12T21:48:33.116237Z"
    }
   },
   "outputs": [
    {
     "data": {
      "text/plain": [
       "dayhoff\n",
       "eebb    6\n",
       "bbee    5\n",
       "bebe    5\n",
       "bcfb    4\n",
       "ebce    4\n",
       "       ..\n",
       "bede    1\n",
       "bcbb    1\n",
       "edbc    1\n",
       "ceed    1\n",
       "eccc    1\n",
       "Name: count, Length: 127, dtype: int64"
      ]
     },
     "execution_count": 50,
     "metadata": {},
     "output_type": "execute_result"
    }
   ],
   "source": [
    "cd47_in_p66_overlap.dayhoff.value_counts()"
   ]
  },
  {
   "cell_type": "code",
   "execution_count": 51,
   "id": "9d888649-eb01-452d-ba52-825a119cdc3b",
   "metadata": {
    "execution": {
     "iopub.execute_input": "2024-11-12T21:52:02.519716Z",
     "iopub.status.busy": "2024-11-12T21:52:02.519502Z",
     "iopub.status.idle": "2024-11-12T21:52:02.526996Z",
     "shell.execute_reply": "2024-11-12T21:52:02.526710Z",
     "shell.execute_reply.started": "2024-11-12T21:52:02.519703Z"
    }
   },
   "outputs": [
    {
     "data": {
      "text/html": [
       "<div>\n",
       "<style scoped>\n",
       "    .dataframe tbody tr th:only-of-type {\n",
       "        vertical-align: middle;\n",
       "    }\n",
       "\n",
       "    .dataframe tbody tr th {\n",
       "        vertical-align: top;\n",
       "    }\n",
       "\n",
       "    .dataframe thead th {\n",
       "        text-align: right;\n",
       "    }\n",
       "</style>\n",
       "<table border=\"1\" class=\"dataframe\">\n",
       "  <thead>\n",
       "    <tr style=\"text-align: right;\">\n",
       "      <th></th>\n",
       "      <th>i_x</th>\n",
       "      <th>dayhoff</th>\n",
       "      <th>protein_x</th>\n",
       "      <th>hashval</th>\n",
       "      <th>i_y</th>\n",
       "      <th>protein_y</th>\n",
       "    </tr>\n",
       "  </thead>\n",
       "  <tbody>\n",
       "    <tr>\n",
       "      <th>0</th>\n",
       "      <td>6</td>\n",
       "      <td>fdee</td>\n",
       "      <td>YKLI</td>\n",
       "      <td>10068566436590771491</td>\n",
       "      <td>130</td>\n",
       "      <td>YRVV</td>\n",
       "    </tr>\n",
       "    <tr>\n",
       "      <th>1</th>\n",
       "      <td>8</td>\n",
       "      <td>eeef</td>\n",
       "      <td>LIIF</td>\n",
       "      <td>224116582751336810</td>\n",
       "      <td>144</td>\n",
       "      <td>IVIF</td>\n",
       "    </tr>\n",
       "    <tr>\n",
       "      <th>2</th>\n",
       "      <td>8</td>\n",
       "      <td>eeef</td>\n",
       "      <td>LIIF</td>\n",
       "      <td>224116582751336810</td>\n",
       "      <td>152</td>\n",
       "      <td>ILLF</td>\n",
       "    </tr>\n",
       "    <tr>\n",
       "      <th>3</th>\n",
       "      <td>9</td>\n",
       "      <td>eefe</td>\n",
       "      <td>IIFL</td>\n",
       "      <td>7860449462917742889</td>\n",
       "      <td>194</td>\n",
       "      <td>ILFV</td>\n",
       "    </tr>\n",
       "    <tr>\n",
       "      <th>4</th>\n",
       "      <td>9</td>\n",
       "      <td>eefe</td>\n",
       "      <td>IIFL</td>\n",
       "      <td>7860449462917742889</td>\n",
       "      <td>285</td>\n",
       "      <td>LVYM</td>\n",
       "    </tr>\n",
       "    <tr>\n",
       "      <th>...</th>\n",
       "      <td>...</td>\n",
       "      <td>...</td>\n",
       "      <td>...</td>\n",
       "      <td>...</td>\n",
       "      <td>...</td>\n",
       "      <td>...</td>\n",
       "    </tr>\n",
       "    <tr>\n",
       "      <th>529</th>\n",
       "      <td>603</td>\n",
       "      <td>ebbb</td>\n",
       "      <td>IGSA</td>\n",
       "      <td>6489788892270137876</td>\n",
       "      <td>9</td>\n",
       "      <td>LGSA</td>\n",
       "    </tr>\n",
       "    <tr>\n",
       "      <th>530</th>\n",
       "      <td>603</td>\n",
       "      <td>ebbb</td>\n",
       "      <td>IGSA</td>\n",
       "      <td>6489788892270137876</td>\n",
       "      <td>213</td>\n",
       "      <td>VTST</td>\n",
       "    </tr>\n",
       "    <tr>\n",
       "      <th>531</th>\n",
       "      <td>605</td>\n",
       "      <td>bbfe</td>\n",
       "      <td>SAFL</td>\n",
       "      <td>6002404200797057331</td>\n",
       "      <td>234</td>\n",
       "      <td>TSFV</td>\n",
       "    </tr>\n",
       "    <tr>\n",
       "      <th>532</th>\n",
       "      <td>614</td>\n",
       "      <td>fbbb</td>\n",
       "      <td>YSGS</td>\n",
       "      <td>12785923314063975223</td>\n",
       "      <td>80</td>\n",
       "      <td>FSSA</td>\n",
       "    </tr>\n",
       "    <tr>\n",
       "      <th>533</th>\n",
       "      <td>614</td>\n",
       "      <td>fbbb</td>\n",
       "      <td>YSGS</td>\n",
       "      <td>12785923314063975223</td>\n",
       "      <td>227</td>\n",
       "      <td>FSTA</td>\n",
       "    </tr>\n",
       "  </tbody>\n",
       "</table>\n",
       "<p>534 rows × 6 columns</p>\n",
       "</div>"
      ],
      "text/plain": [
       "     i_x dayhoff protein_x               hashval  i_y protein_y\n",
       "0      6    fdee      YKLI  10068566436590771491  130      YRVV\n",
       "1      8    eeef      LIIF    224116582751336810  144      IVIF\n",
       "2      8    eeef      LIIF    224116582751336810  152      ILLF\n",
       "3      9    eefe      IIFL   7860449462917742889  194      ILFV\n",
       "4      9    eefe      IIFL   7860449462917742889  285      LVYM\n",
       "..   ...     ...       ...                   ...  ...       ...\n",
       "529  603    ebbb      IGSA   6489788892270137876    9      LGSA\n",
       "530  603    ebbb      IGSA   6489788892270137876  213      VTST\n",
       "531  605    bbfe      SAFL   6002404200797057331  234      TSFV\n",
       "532  614    fbbb      YSGS  12785923314063975223   80      FSSA\n",
       "533  614    fbbb      YSGS  12785923314063975223  227      FSTA\n",
       "\n",
       "[534 rows x 6 columns]"
      ]
     },
     "execution_count": 51,
     "metadata": {},
     "output_type": "execute_result"
    }
   ],
   "source": [
    "p66_in_cd47_overlap.merge(cd47_in_p66_overlap, on=[\"dayhoff\", \"hashval\"])"
   ]
  },
  {
   "cell_type": "markdown",
   "id": "c6f2af40-562a-4bf6-98b1-b1c8f9e83105",
   "metadata": {},
   "source": [
    "### Where is jaccard > 0.5?"
   ]
  },
  {
   "cell_type": "markdown",
   "id": "c03d1328",
   "metadata": {},
   "source": [
    "# This value was dropped from jaccard > 0.7 in the hp dataset"
   ]
  },
  {
   "cell_type": "code",
   "execution_count": 52,
   "id": "2af67f6f-51f5-4ed1-97ac-b0bf4f03a76d",
   "metadata": {
    "execution": {
     "iopub.execute_input": "2024-11-12T19:00:34.689250Z",
     "iopub.status.busy": "2024-11-12T19:00:34.689105Z",
     "iopub.status.idle": "2024-11-12T19:00:34.754032Z",
     "shell.execute_reply": "2024-11-12T19:00:34.753551Z",
     "shell.execute_reply.started": "2024-11-12T19:00:34.689238Z"
    }
   },
   "outputs": [
    {
     "data": {
      "text/html": [
       "<div>\n",
       "<style scoped>\n",
       "    .dataframe tbody tr th:only-of-type {\n",
       "        vertical-align: middle;\n",
       "    }\n",
       "\n",
       "    .dataframe tbody tr th {\n",
       "        vertical-align: top;\n",
       "    }\n",
       "\n",
       "    .dataframe thead th {\n",
       "        text-align: right;\n",
       "    }\n",
       "</style>\n",
       "<table border=\"1\" class=\"dataframe\">\n",
       "  <thead>\n",
       "    <tr style=\"text-align: right;\">\n",
       "      <th></th>\n",
       "      <th>query</th>\n",
       "      <th>match</th>\n",
       "      <th>moltype</th>\n",
       "      <th>ksize</th>\n",
       "      <th>jaccard</th>\n",
       "      <th>query_n_kmers</th>\n",
       "      <th>query_n_unique_kmers</th>\n",
       "      <th>query_intersection_positions</th>\n",
       "      <th>match_n_kmers</th>\n",
       "      <th>match_n_unique_kmers</th>\n",
       "      <th>match_intersection_positions</th>\n",
       "    </tr>\n",
       "  </thead>\n",
       "  <tbody>\n",
       "    <tr>\n",
       "      <th>0</th>\n",
       "      <td>CD47</td>\n",
       "      <td>p66</td>\n",
       "      <td>dayhoff</td>\n",
       "      <td>5</td>\n",
       "      <td>0.098266</td>\n",
       "      <td>319</td>\n",
       "      <td>269</td>\n",
       "      <td>[[2, beebb], [8, eebbb], [15, bbbce], [26, bec...</td>\n",
       "      <td>614</td>\n",
       "      <td>491</td>\n",
       "      <td>[[9, eefeb], [10, efebb], [12, ebbbb], [14, bb...</td>\n",
       "    </tr>\n",
       "    <tr>\n",
       "      <th>1</th>\n",
       "      <td>CD47</td>\n",
       "      <td>p66</td>\n",
       "      <td>dayhoff</td>\n",
       "      <td>6</td>\n",
       "      <td>0.026838</td>\n",
       "      <td>318</td>\n",
       "      <td>294</td>\n",
       "      <td>[[46, cbccbb], [74, bbebbc], [76, ebbcfb], [83...</td>\n",
       "      <td>613</td>\n",
       "      <td>586</td>\n",
       "      <td>[[9, eefebb], [75, bcebdc], [105, decebc], [10...</td>\n",
       "    </tr>\n",
       "    <tr>\n",
       "      <th>2</th>\n",
       "      <td>CD47</td>\n",
       "      <td>p66</td>\n",
       "      <td>dayhoff</td>\n",
       "      <td>7</td>\n",
       "      <td>0.006579</td>\n",
       "      <td>317</td>\n",
       "      <td>306</td>\n",
       "      <td>[[84, decebce], [105, ebdbbcf], [197, ebbcfbe]...</td>\n",
       "      <td>612</td>\n",
       "      <td>612</td>\n",
       "      <td>[[105, decebce], [154, bbccdbe], [159, bedbbee...</td>\n",
       "    </tr>\n",
       "  </tbody>\n",
       "</table>\n",
       "</div>"
      ],
      "text/plain": [
       "  query match  moltype  ksize   jaccard  query_n_kmers  query_n_unique_kmers  \\\n",
       "0  CD47   p66  dayhoff      5  0.098266            319                   269   \n",
       "1  CD47   p66  dayhoff      6  0.026838            318                   294   \n",
       "2  CD47   p66  dayhoff      7  0.006579            317                   306   \n",
       "\n",
       "                        query_intersection_positions  match_n_kmers  \\\n",
       "0  [[2, beebb], [8, eebbb], [15, bbbce], [26, bec...            614   \n",
       "1  [[46, cbccbb], [74, bbebbc], [76, ebbcfb], [83...            613   \n",
       "2  [[84, decebce], [105, ebdbbcf], [197, ebbcfbe]...            612   \n",
       "\n",
       "   match_n_unique_kmers                       match_intersection_positions  \n",
       "0                   491  [[9, eefeb], [10, efebb], [12, ebbbb], [14, bb...  \n",
       "1                   586  [[9, eefebb], [75, bcebdc], [105, decebc], [10...  \n",
       "2                   612  [[105, decebce], [154, bbccdbe], [159, bedbbee...  "
      ]
     },
     "execution_count": 52,
     "metadata": {},
     "output_type": "execute_result"
    }
   ],
   "source": [
    "p66_cd47_df.query(\"jaccard > 0.001\")"
   ]
  },
  {
   "cell_type": "code",
   "execution_count": 53,
   "id": "894951f6-8e71-4f7d-8ac6-6e75b3472427",
   "metadata": {
    "execution": {
     "iopub.execute_input": "2024-11-12T19:00:34.754744Z",
     "iopub.status.busy": "2024-11-12T19:00:34.754593Z",
     "iopub.status.idle": "2024-11-12T19:00:34.862007Z",
     "shell.execute_reply": "2024-11-12T19:00:34.861660Z",
     "shell.execute_reply.started": "2024-11-12T19:00:34.754732Z"
    }
   },
   "outputs": [
    {
     "data": {
      "text/plain": [
       "<seaborn.axisgrid.FacetGrid at 0x238bcfedd20>"
      ]
     },
     "execution_count": 53,
     "metadata": {},
     "output_type": "execute_result"
    },
    {
     "data": {
      "image/png": "[encoded data removed]",
      "text/plain": [
       "<Figure size 216x216 with 1 Axes>"
      ]
     },
     "metadata": {
      "needs_background": "light"
     },
     "output_type": "display_data"
    }
   ],
   "source": [
    "sns.relplot(data=p66_cd47_df, x=\"ksize\", y=\"jaccard\", height=3)"
   ]
  },
  {
   "cell_type": "code",
   "execution_count": 54,
   "id": "5afd7f1c-d1e1-40c0-97b8-396fcd0d7c52",
   "metadata": {
    "execution": {
     "iopub.execute_input": "2024-11-12T19:00:34.862568Z",
     "iopub.status.busy": "2024-11-12T19:00:34.862436Z",
     "iopub.status.idle": "2024-11-12T19:00:34.950627Z",
     "shell.execute_reply": "2024-11-12T19:00:34.950263Z",
     "shell.execute_reply.started": "2024-11-12T19:00:34.862557Z"
    }
   },
   "outputs": [
    {
     "data": {
      "text/plain": [
       "<seaborn.axisgrid.FacetGrid at 0x238bd09a6b0>"
      ]
     },
     "execution_count": 54,
     "metadata": {},
     "output_type": "execute_result"
    },
    {
     "data": {
      "image/png": "[encoded data removed]",
      "text/plain": [
       "<Figure size 216x216 with 1 Axes>"
      ]
     },
     "metadata": {
      "needs_background": "light"
     },
     "output_type": "display_data"
    }
   ],
   "source": [
    "sns.relplot(data=p66_cd47_df, x=\"query_n_kmers\", y=\"query_n_unique_kmers\", height=3)"
   ]
  },
  {
   "cell_type": "code",
   "execution_count": 55,
   "id": "fabf3a25-b8e1-4a83-9618-edfddf8939f6",
   "metadata": {
    "execution": {
     "iopub.execute_input": "2024-11-12T19:00:34.951942Z",
     "iopub.status.busy": "2024-11-12T19:00:34.951149Z",
     "iopub.status.idle": "2024-11-12T19:00:35.041065Z",
     "shell.execute_reply": "2024-11-12T19:00:35.040683Z",
     "shell.execute_reply.started": "2024-11-12T19:00:34.951924Z"
    }
   },
   "outputs": [
    {
     "data": {
      "text/plain": [
       "<seaborn.axisgrid.FacetGrid at 0x238bd10a140>"
      ]
     },
     "execution_count": 55,
     "metadata": {},
     "output_type": "execute_result"
    },
    {
     "data": {
      "image/png": "[encoded data removed]",
      "text/plain": [
       "<Figure size 216x216 with 1 Axes>"
      ]
     },
     "metadata": {
      "needs_background": "light"
     },
     "output_type": "display_data"
    }
   ],
   "source": [
    "sns.relplot(data=p66_cd47_df, x=\"ksize\", y=\"query_n_unique_kmers\", height=3)"
   ]
  },
  {
   "cell_type": "code",
   "execution_count": 56,
   "id": "f3906de8-ce4d-4a62-9359-49fa6670318e",
   "metadata": {
    "execution": {
     "iopub.execute_input": "2024-11-12T19:00:35.042994Z",
     "iopub.status.busy": "2024-11-12T19:00:35.042312Z",
     "iopub.status.idle": "2024-11-12T19:00:35.195319Z",
     "shell.execute_reply": "2024-11-12T19:00:35.194994Z",
     "shell.execute_reply.started": "2024-11-12T19:00:35.042977Z"
    }
   },
   "outputs": [
    {
     "data": {
      "text/plain": [
       "<seaborn.axisgrid.FacetGrid at 0x238bd173010>"
      ]
     },
     "execution_count": 56,
     "metadata": {},
     "output_type": "execute_result"
    },
    {
     "data": {
      "image/png": "[encoded data removed]",
      "text/plain": [
       "<Figure size 264.625x216 with 1 Axes>"
      ]
     },
     "metadata": {
      "needs_background": "light"
     },
     "output_type": "display_data"
    }
   ],
   "source": [
    "sns.relplot(\n",
    "    data=p66_cd47_df,\n",
    "    x=\"query_n_unique_kmers\",\n",
    "    y=\"jaccard\",\n",
    "    height=3,\n",
    "    hue=\"ksize\",\n",
    "    palette=\"crest\",\n",
    ")"
   ]
  },
  {
   "cell_type": "code",
   "execution_count": null,
   "id": "e94664e6-fe0c-45ec-9fd5-9b3cac851fa9",
   "metadata": {},
   "outputs": [],
   "source": []
  },
  {
   "cell_type": "code",
   "execution_count": 57,
   "id": "c1498b57-8a4f-4d45-81be-61ed007cdb53",
   "metadata": {},
   "outputs": [
    {
     "ename": "NameError",
     "evalue": "name 'get_is_protein' is not defined",
     "output_type": "error",
     "traceback": [
      "\u001b[1;31m---------------------------------------------------------------------------\u001b[0m",
      "\u001b[1;31mNameError\u001b[0m                                 Traceback (most recent call last)",
      "Cell \u001b[1;32mIn[57], line 2\u001b[0m\n\u001b[0;32m      1\u001b[0m \u001b[38;5;66;03m# figure out protein vs dna\u001b[39;00m\n\u001b[1;32m----> 2\u001b[0m is_protein \u001b[38;5;241m=\u001b[39m \u001b[43mget_is_protein\u001b[49m(sig)\n\u001b[0;32m      3\u001b[0m add_sequence(seq_mh, sequence, is_protein)\n\u001b[0;32m      5\u001b[0m intersecting \u001b[38;5;241m=\u001b[39m query_mh\u001b[38;5;241m.\u001b[39mintersection(seq_mh)\n",
      "\u001b[1;31mNameError\u001b[0m: name 'get_is_protein' is not defined"
     ]
    }
   ],
   "source": [
    "    # figure out protein vs dna\n",
    "    is_protein = get_is_protein(sig)\n",
    "    add_sequence(seq_mh, sequence, is_protein)\n",
    "\n",
    "    intersecting = query_mh.intersection(seq_mh)\n",
    "    if intersecting:\n",
    "        # Found matching k-mers!\n",
    "\n",
    "        kmers_hashes = intersecting.kmers_and_hashes(\n",
    "            sequence, force=False, is_protein=is_protein\n",
    "        )\n",
    "        if hashval in intersecting.hashes:\n",
    "            \n",
    "            found_kmers_hashes = []\n",
    "            for i in enumerate(kmers_hashes):\n",
    "                found_kmers_hashes.append\n",
    "                (i, degenerate_protein_chatgpt(kmer, sig.minhash.moltype), kmer, hashval)\n",
    "        \n",
    "        return found_kmers_hashes"
   ]
  },
  {
   "cell_type": "code",
   "execution_count": null,
   "id": "21b8532b",
   "metadata": {},
   "outputs": [],
   "source": []
  }
 ],
 "metadata": {
  "kernelspec": {
   "display_name": "Python 3 (ipykernel)",
   "language": "python",
   "name": "python3"
  },
  "language_info": {
   "codemirror_mode": {
    "name": "ipython",
    "version": 3
   },
   "file_extension": ".py",
   "mimetype": "text/x-python",
   "name": "python",
   "nbconvert_exporter": "python",
   "pygments_lexer": "ipython3",
   "version": "3.10.11"
  }
 },
 "nbformat": 4,
 "nbformat_minor": 5
}
